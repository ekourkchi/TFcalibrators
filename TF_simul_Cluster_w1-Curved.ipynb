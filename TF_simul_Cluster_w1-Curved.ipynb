{
 "cells": [
  {
   "cell_type": "code",
   "execution_count": 1,
   "metadata": {},
   "outputs": [],
   "source": [
    "import sys\n",
    "import time\n",
    "import os\n",
    "import subprocess\n",
    "import math\n",
    "import matplotlib.pyplot as plt\n",
    "import numpy as np\n",
    "from astropy.table import Table, Column \n",
    "from scipy.stats import linregress\n",
    "from scipy import interpolate\n",
    "from scipy import polyval, polyfit\n",
    "from scipy.optimize import curve_fit\n",
    "from scipy import odr\n",
    "import pylab as py\n",
    "from matplotlib import gridspec\n",
    "import sklearn.datasets as ds\n",
    "from sklearn.ensemble import RandomForestRegressor\n",
    "from sklearn.datasets import make_regression\n",
    "import corner\n",
    "import emcee\n",
    "import scipy.optimize as op\n",
    "from scipy.linalg import cholesky, inv,det\n",
    "from scipy.optimize import minimize\n",
    "import random\n",
    "from astropy.table import Table, Column\n",
    "from linear_mcmc import *\n",
    "\n",
    "from redTools import *\n",
    "from Kcorrect import *\n",
    "from calibTools import *"
   ]
  },
  {
   "cell_type": "code",
   "execution_count": 2,
   "metadata": {},
   "outputs": [],
   "source": [
    "####################################### Set Axes\n",
    "def set_axes(ax, xlim=None, ylim=None, fontsize=16, twinx=True, twiny=True, minor=True, inout='in'):\n",
    "        \n",
    "        if not ylim is None:\n",
    "            ax.set_ylim(ylim)\n",
    "        else:\n",
    "            ylim = ax.get_ylim() \n",
    "            \n",
    "        if not xlim is None:    \n",
    "            ax.set_xlim(xlim) \n",
    "        else:\n",
    "            xlim = ax.get_xlim()\n",
    "            \n",
    "        ax.tick_params(which='major', length=6, width=1., direction=inout)\n",
    "#         if minor:\n",
    "        ax.tick_params(which='minor', length=3, color='#000033', width=1.0, direction=inout)  \n",
    "        \n",
    "        if twiny:\n",
    "            y_ax = ax.twinx()\n",
    "            y_ax.set_ylim(ylim)\n",
    "            y_ax.set_yticklabels([])\n",
    "            y_ax.minorticks_on()\n",
    "            y_ax.tick_params(which='major', length=6, width=1., direction=inout)\n",
    "            if minor:\n",
    "                y_ax.tick_params(which='minor', length=3, color='#000033', width=1.0, direction=inout) \n",
    "        \n",
    "        if twinx:\n",
    "            x_ax = ax.twiny()\n",
    "            x_ax.set_xlim(xlim)\n",
    "            x_ax.set_xticklabels([])\n",
    "            x_ax.minorticks_on()\n",
    "            x_ax.tick_params(which='major', length=6, width=1.0, direction=inout)\n",
    "            if minor:\n",
    "                x_ax.tick_params(which='minor', length=3, color='#000033', width=1.0, direction=inout)     \n",
    "\n",
    "        for tick in ax.xaxis.get_major_ticks():\n",
    "                    tick.label.set_fontsize(fontsize) \n",
    "        for tick in ax.yaxis.get_major_ticks():\n",
    "                    tick.label.set_fontsize(fontsize) \n",
    "        \n",
    "        return x_ax, y_ax\n",
    "####################################### Plotting Function\n",
    "def set_label(ax, xpcent, ypcent, text, fontsize=12, color='k'):\n",
    "    \n",
    "    Ylm = ax.get_ylim() ; Xlm = ax.get_xlim()\n",
    "    x2 = xpcent/100.\n",
    "    x1 = 1.-x2\n",
    "    y2 = ypcent/100.\n",
    "    y1 = 1.-y2\n",
    "    x0 = x1*Xlm[0]+x2*Xlm[1]\n",
    "    y0 = y1*Ylm[0]+y2*Ylm[1]\n",
    "    ax.text(x0,y0, text, fontsize=fontsize, color=color)\n",
    "\n"
   ]
  },
  {
   "cell_type": "code",
   "execution_count": 136,
   "metadata": {},
   "outputs": [],
   "source": [
    "def getMagLim(slope, zp, Mi_lim = -17, band = 'i'):\n",
    "    \n",
    "    if band=='u':\n",
    "        alpha = 2.68\n",
    "        beta = 1.58\n",
    "        w_ = (zp-beta-Mi_lim)/(alpha-slope)\n",
    "        Mlim = slope * w_ + zp\n",
    "        return Mlim\n",
    "    elif band=='g':\n",
    "        alpha = 0.84\n",
    "        beta = 0.64\n",
    "        w_ = (zp-beta-Mi_lim)/(alpha-slope)\n",
    "        Mlim = slope * w_ + zp\n",
    "        return Mlim\n",
    "    elif band=='r':\n",
    "        alpha = 0.27\n",
    "        beta = 0.23\n",
    "        w_ = (zp-beta-Mi_lim)/(alpha-slope)\n",
    "        Mlim = slope * w_ + zp\n",
    "        return Mlim\n",
    "    elif band=='i':\n",
    "        Mlim = Mi_lim\n",
    "        return Mlim\n",
    "    elif band=='z':\n",
    "        alpha = 0.25\n",
    "        beta = 0.12\n",
    "        w_ = (zp+beta-Mi_lim)/(-alpha-slope)\n",
    "        Mlim = slope * w_ + zp\n",
    "        return Mlim    \n",
    "    elif band=='w1':\n",
    "        alpha = 1.18\n",
    "        beta = -0.47\n",
    "        w_ = (zp+beta-Mi_lim)/(-alpha-slope)\n",
    "        Mlim = slope * w_ + zp\n",
    "        return Mlim  \n",
    "    elif band=='w2':\n",
    "        alpha = 1.32\n",
    "        beta = -1.04\n",
    "        w_ = (zp+beta-Mi_lim)/(-alpha-slope)\n",
    "        Mlim = slope * w_ + zp\n",
    "        return Mlim      "
   ]
  },
  {
   "cell_type": "code",
   "execution_count": 137,
   "metadata": {},
   "outputs": [
    {
     "name": "stdout",
     "output_type": "stream",
     "text": [
      "w1\n",
      "Mag. Limit: -16.10\n"
     ]
    }
   ],
   "source": [
    "A = 3.249672746291321\n",
    "\n",
    "\n",
    "band = 'w1'\n",
    "param = 'a'\n",
    "## Luminosity function parameters\n",
    "alpha = -1\n",
    "Ms = -21.9\n",
    "\n",
    "## TF realtion parameters\n",
    "slope = -9.46\n",
    "zp = -20.36\n",
    "rms = 0.58\n",
    "\n",
    "\n",
    "Mlim = -16.1 # getMagLim(slope, zp, band = band)\n",
    "print band\n",
    "print \"Mag. Limit:\", '%.2f'%Mlim"
   ]
  },
  {
   "cell_type": "code",
   "execution_count": 138,
   "metadata": {},
   "outputs": [],
   "source": [
    "####################################\n",
    "def CurveFUN(x, A):\n",
    "\n",
    "    logW0 = 2.3\n",
    "\n",
    "    if band in ['w1', 'w2']:\n",
    "        logW0=2.375\n",
    "    else:\n",
    "        logW0=2.5\n",
    "\n",
    "    logW = x\n",
    "\n",
    "    X0 = logW0 - 2.5\n",
    "    X = logW-2.5\n",
    "\n",
    "    B = -2.*A*X0\n",
    "\n",
    "    M = slope*X+zp\n",
    "    delta = ((A*X**2+B*X) - (A*X0**2+B*X0))\n",
    "\n",
    "    try:\n",
    "        delta[np.where(logW<logW0)] = 0\n",
    "    except:\n",
    "        if logW<logW0:\n",
    "            delta = 0\n",
    "\n",
    "    return M+delta\n",
    "####################################"
   ]
  },
  {
   "cell_type": "code",
   "execution_count": 139,
   "metadata": {},
   "outputs": [
    {
     "data": {
      "image/png": "[encoded data removed]",
      "text/plain": [
       "<Figure size 600x500 with 1 Axes>"
      ]
     },
     "metadata": {
      "needs_background": "light"
     },
     "output_type": "display_data"
    }
   ],
   "source": [
    "fig = py.figure(figsize=(6,5), dpi=100)    \n",
    "fig.subplots_adjust(wspace=0, top=0.95, bottom=0.12, left=0.15, right=0.95)\n",
    "ax = fig.add_subplot(111)\n",
    "ax.set_xlim([-24,-17])\n",
    "\n",
    "M = np.linspace(-23.5,-17,50)\n",
    "N = LFfunction(M, Ms, alpha)\n",
    "ax.plot(M,N,'k--')\n",
    "\n",
    "ax.set_yscale(\"log\", nonposy='clip')"
   ]
  },
  {
   "cell_type": "code",
   "execution_count": 140,
   "metadata": {},
   "outputs": [
    {
     "name": "stdout",
     "output_type": "stream",
     "text": [
      "0.577954143166979\n"
     ]
    },
    {
     "data": {
      "image/png": "[encoded data removed]",
      "text/plain": [
       "<Figure size 432x288 with 1 Axes>"
      ]
     },
     "metadata": {
      "needs_background": "light"
     },
     "output_type": "display_data"
    }
   ],
   "source": [
    "np.random.seed(0)\n",
    "\n",
    "size = 3000\n",
    "randMGAG = np.random.uniform(low=-24, high=-12, size=size)\n",
    "\n",
    "randU = np.random.uniform(low=0, high=1, size=size)\n",
    "\n",
    "randLfunct = LFfunction(randMGAG, Ms, alpha)\n",
    "\n",
    "indx, = np.where(randU<randLfunct)\n",
    "\n",
    "simulMag  = randMGAG[indx]\n",
    "simulWimx = (simulMag-zp)/slope + 2.5\n",
    "N = len(simulMag)\n",
    "scatterMAG = np.random.normal(0, rms, N)\n",
    "simulMag += scatterMAG\n",
    "\n",
    "\n",
    "# print randMGAG\n",
    "# print randU\n",
    "plt.hist(simulMag)\n",
    "print np.std(scatterMAG)"
   ]
  },
  {
   "cell_type": "code",
   "execution_count": 141,
   "metadata": {},
   "outputs": [
    {
     "data": {
      "text/plain": [
       "1.8296980874338997"
      ]
     },
     "execution_count": 141,
     "metadata": {},
     "output_type": "execute_result"
    }
   ],
   "source": [
    "Mag_simul = -14\n",
    "np.min(np.roots([A0, B0, C0-Mag_simul])+2.5)"
   ]
  },
  {
   "cell_type": "code",
   "execution_count": 142,
   "metadata": {},
   "outputs": [
    {
     "name": "stdout",
     "output_type": "stream",
     "text": [
      "0.10316843050948495\n"
     ]
    },
    {
     "data": {
      "text/plain": [
       "[<matplotlib.lines.Line2D at 0x1b1f7ffa90>]"
      ]
     },
     "execution_count": 142,
     "metadata": {},
     "output_type": "execute_result"
    },
    {
     "data": {
      "image/png": "[encoded data removed]",
      "text/plain": [
       "<Figure size 500x500 with 3 Axes>"
      ]
     },
     "metadata": {
      "needs_background": "light"
     },
     "output_type": "display_data"
    }
   ],
   "source": [
    "########################################################\n",
    "def curveSimul(A, Ms, alpha, mag_scatter=0.4, size=100000, seed=0):\n",
    "    \n",
    "    \n",
    "    if band in ['w1', 'w2']:\n",
    "        logW0=2.375\n",
    "    else:\n",
    "        logW0=2.5\n",
    "\n",
    "    logW = x\n",
    "    X0 = logW0 - 2.5\n",
    "    X = logW-2.5\n",
    "    B = -2.*A*X0\n",
    "    M = slope*X+zp\n",
    "    M0 = slope*X0+zp\n",
    "    \n",
    "    delta = ((A*X**2+B*X) - (A*X0**2+B*X0))\n",
    "    \n",
    "    A0 = A\n",
    "    B0 = B+slope\n",
    "    C0 = zp - (A*X0**2+B*X0)\n",
    "    \n",
    "    np.random.seed(seed)\n",
    "    \n",
    "    randMGAG = np.random.uniform(low=-28, high=-12, size=size*10)\n",
    "    randU = np.random.uniform(low=0, high=1, size=size*10)\n",
    "    randLfunct = LFfunction(randMGAG, Ms, alpha)\n",
    "    indx, = np.where(randU<randLfunct)\n",
    "    simulMag  = randMGAG[indx]\n",
    "    simulWimx1 = (simulMag-zp)/slope+2.5\n",
    "    \n",
    "    simulWimx2 = np.array([np.min(np.roots([A0, B0, C0-Msim])+2.5) for Msim in simulMag])\n",
    "    \n",
    "    simulWimx = simulWimx1*0.\n",
    "    for i, Msim in enumerate(simulMag):\n",
    "        if Msim<M0:\n",
    "            simulWimx[i] = simulWimx2[i]\n",
    "        else:\n",
    "            simulWimx[i] = simulWimx1[i]\n",
    "    \n",
    "#     \n",
    "    \n",
    "    real_mag  = simulMag[:size]\n",
    "    simulWimx = simulWimx[:size]\n",
    "    \n",
    "    \n",
    "    ## scattring along the magnitude axis\n",
    "    N = len(real_mag)\n",
    "    scatterMAG = np.random.normal(0, mag_scatter, N)\n",
    "    simulMag = real_mag + scatterMAG\n",
    "    \n",
    "\n",
    "    \n",
    "    return simulMag, simulWimx\n",
    "    \n",
    "########################################################\n",
    "\n",
    "fig, ax = makeFig(band=band, xLim = (1.6,3.1), yLim = (-11,-24), MAGabs=True)\n",
    "dye = {\"u\":\"blue\",\"g\":\"green\",\"r\":\"red\",\"i\":\"orange\",\"z\":\"maroon\",\"w1\":\"purple\", 'w2': \"brown\"}\n",
    "\n",
    "x = np.linspace(-5,5,50)\n",
    "y = CurveFUN(x, A)\n",
    "yl = slope*(x-2.5)+zp \n",
    "    \n",
    "simulMag, simulWimx = curveSimul(A, Ms, alpha, \n",
    "               mag_scatter=0.001, size=1000, seed=0)\n",
    "ax.plot(simulWimx, simulMag, '.', color=dye[band], alpha=0.4)\n",
    "print np.std(simulMag-(slope*(simulWimx-2.5)+zp))\n",
    "\n",
    "\n",
    "ax.plot(x,y, 'k-', lw=2) \n",
    "ax.plot(x,yl, 'r--', lw=2) \n",
    "\n",
    "x = np.linspace(1.7,2.6,20)\n",
    "ax.plot(x,-17+(0*(x-2.5)+0),'--', lw=1.5, color='navy')      \n"
   ]
  },
  {
   "cell_type": "code",
   "execution_count": 148,
   "metadata": {},
   "outputs": [
    {
     "name": "stdout",
     "output_type": "stream",
     "text": [
      "0\n",
      "50\n"
     ]
    }
   ],
   "source": [
    "def simulClusterOBS(Mlim_lst, slope, zp, \n",
    "                        simulMag, simulWimx):\n",
    "    \n",
    "    \n",
    "    delta_lst = Mlim_lst*0.    \n",
    "    \n",
    "    for i, Mlim in enumerate(Mlim_lst):   \n",
    "        \n",
    "        indx, = np.where(simulMag<Mlim)\n",
    "        \n",
    "        \n",
    "        simulMag_obs = simulMag[indx]\n",
    "        simulWimx_obs = simulWimx[indx]\n",
    "        simulMag_real =  slope*(simulWimx_obs-2.5)+zp\n",
    "      \n",
    "        # real mag - observed mag\n",
    "        bias = simulMag_real-simulMag_obs \n",
    "          \n",
    "        delta_lst[i] = np.mean(bias)\n",
    "    \n",
    "\n",
    "    return delta_lst\n",
    "\n",
    "#########################################################\n",
    "\n",
    "\n",
    "\n",
    "n_simul = 100\n",
    "M0_C = np.arange(Mlim,Mlim-6.5,-1)\n",
    "\n",
    "\n",
    "#########################################################\n",
    "\n",
    "\n",
    "n_mag = len(M0_C)\n",
    "outputs = np.zeros(n_mag*n_simul)\n",
    "outputs = outputs.reshape(n_simul, n_mag)\n",
    "for i in range(n_simul):\n",
    "    simulMag, simulWimx = curveSimul(A, Ms, alpha, \n",
    "               mag_scatter=rms, size=10000, seed=i)\n",
    "    outputs[i] = simulClusterOBS(M0_C, slope, zp, simulMag, simulWimx)\n",
    "    \n",
    "    if i%50==0:\n",
    "        print i\n",
    "\n",
    "    \n",
    "bias_CM = np.median(outputs, 0)\n",
    "bias_err_CM = np.std(outputs, 0)\n",
    "\n",
    "\n",
    "\n"
   ]
  },
  {
   "cell_type": "code",
   "execution_count": 149,
   "metadata": {},
   "outputs": [],
   "source": [
    "def add2Dict(myDict, code, band, param, DM):\n",
    "    \n",
    "    if not code in myDict:\n",
    "        myDict[code]={}\n",
    "    if not band in myDict[code]:\n",
    "        myDict[code][band]={}\n",
    "    if not param in myDict[code][band]:\n",
    "        myDict[code][band][param]={}\n",
    "    myDict[code][band][param] = DM\n",
    "##############################################   \n",
    "table   = np.genfromtxt('cluster_code_Mlimit_revised.csv' , delimiter=',', \n",
    "                        filling_values=0, names=True, dtype=None, encoding=None)\n",
    "\n",
    "mag_lims = table[band]\n",
    "code = table['Code']  \n",
    "##############################################\n",
    "table   = np.genfromtxt('cluster_DM_code.csv' , delimiter=',', \n",
    "                        filling_values=0, names=True, dtype=None, encoding=None)\n",
    "DM_band = table['band']\n",
    "DM_param = table['param']\n",
    "DM_code = table['Code']\n",
    "DM = table['DM']\n",
    "##############################################\n",
    "    \n",
    "DM_Dict = {}    \n",
    "for i, myCode in enumerate(DM_code):\n",
    "    add2Dict(DM_Dict, myCode.strip(), DM_band[i].strip(), DM_param[i].strip(), np.float(DM[i]))  "
   ]
  },
  {
   "cell_type": "code",
   "execution_count": 150,
   "metadata": {},
   "outputs": [
    {
     "name": "stdout",
     "output_type": "stream",
     "text": [
      "V -16.24\n",
      "U -16.06\n",
      "F -16.59\n",
      "Ce -18.17\n",
      "An -17.44\n",
      "Pe -16.28\n",
      "Hy -17.29\n",
      "A26 -17.02\n",
      "N41 -16.78\n",
      "N5 -18.43\n",
      "Ca -18.47\n",
      "N8 -18.64\n",
      "N7 -19.29\n",
      "A1 -17.80\n",
      "Co -16.82\n",
      "A4 -17.87\n",
      "N40 -18.22\n",
      "A5 -19.49\n",
      "A2 -18.62\n",
      "He -18.58\n"
     ]
    }
   ],
   "source": [
    "for i, cc in enumerate(code):\n",
    "    cc = cc.strip()\n",
    "    if mag_lims[i]>0:\n",
    "        if param in DM_Dict[cc][band]:\n",
    "            limit_modulus = mag_lims[i]-DM_Dict[cc][band][param]\n",
    "            print cc, '%.2f'%limit_modulus"
   ]
  },
  {
   "cell_type": "code",
   "execution_count": 151,
   "metadata": {
    "scrolled": false
   },
   "outputs": [
    {
     "name": "stdout",
     "output_type": "stream",
     "text": [
      "[ 0.0003144  -0.00307182  0.00642497 -0.00065844]\n",
      "[[ 1.15521858e-07 -8.63712781e-07  1.49784003e-06 -2.68354618e-07]\n",
      " [-8.63712781e-07  6.77299343e-06 -1.25684676e-05  2.67139309e-06]\n",
      " [ 1.49784003e-06 -1.25684676e-05  2.62377460e-05 -7.71892539e-06]\n",
      " [-2.68354618e-07  2.67139309e-06 -7.71892539e-06  6.06402492e-06]]\n",
      "V -16.24 14.56 30.8\n",
      "U -16.06 15.09 31.15\n",
      "F -16.59 14.62 31.21\n",
      "Ce -18.17 14.44 32.61\n",
      "An -17.44 15.34 32.78\n",
      "Pe -16.28 16.89 33.17\n",
      "Hy -17.29 16.36 33.65\n",
      "A26 -17.02 16.83 33.85\n",
      "N41 -16.78 17.18 33.96\n",
      "N5 -18.43 15.56 33.99\n",
      "Ca -18.47 15.68 34.15\n",
      "N8 -18.64 15.81 34.45\n",
      "N7 -19.29 15.23 34.52\n",
      "A1 -17.80 17.05 34.85\n",
      "Co -16.82 18.03 34.85\n",
      "A4 -17.87 17.03 34.9\n",
      "N40 -18.22 16.84 35.06\n",
      "A5 -19.49 15.72 35.21\n",
      "A2 -18.62 16.66 35.28\n",
      "He -18.58 17.46 36.04\n"
     ]
    },
    {
     "data": {
      "image/png": "[encoded data removed]",
      "text/plain": [
       "<Figure size 500x500 with 3 Axes>"
      ]
     },
     "metadata": {
      "needs_background": "light"
     },
     "output_type": "display_data"
    }
   ],
   "source": [
    "# def biasFuc2(M, a, b):\n",
    "#     return a*(np.abs(M-Mlim))**b\n",
    "\n",
    "def biasFuc2(M, a, b,c, d):\n",
    "    return a*(np.abs(M-Mlim))**3+ b*(np.abs(M-Mlim))**2+c*(np.abs(M-Mlim))+d\n",
    "\n",
    "\n",
    "fig = py.figure(figsize=(5,5), dpi=100)    \n",
    "fig.subplots_adjust(wspace=0, top=0.9, bottom=0.12, left=0.05, right=0.98)\n",
    "ax = fig.add_subplot(111)\n",
    "\n",
    "\n",
    "ax.set_xlim(-16,-23.3)\n",
    "ax.plot([-12,-24],[0,0], 'k:')\n",
    "\n",
    "ax.errorbar(M0_C , bias_CM-bias_CM[0], yerr=bias_err_CM, fmt='o', color='red', capsize=3, \n",
    "            markersize=5, markerfacecolor='white')\n",
    "\n",
    "\n",
    "\n",
    "fit, cov = curve_fit(biasFuc2, M0_C , bias_CM-bias_CM[0], sigma=bias_err_CM)\n",
    "print fit\n",
    "print cov\n",
    "\n",
    "m = np.arange(M0_C[0],-24,-0.1)\n",
    "ax.plot(m, biasFuc2(m, fit[0], fit[1], fit[2], fit[3]), 'k-')\n",
    "ax.plot([-10, Mlim],[0,0], 'k-')\n",
    "\n",
    "\n",
    "x_ax, y_ax = set_axes(ax, xlim=(-15,-22.5), ylim=(-0.15,0.15), fontsize=14)\n",
    "y_ax.set_yticks(np.arange(-0.15, 0.15, step=0.05))\n",
    "x_ax.set_xlim(31-(-15-Mlim),31-(-15-Mlim)+7.5)\n",
    "x_ax.set_xticks(np.arange(30,38, 1))\n",
    "x_ax.set_xticklabels(np.arange(30,38, 1))\n",
    "x_ax.tick_params(labelsize=14)\n",
    "\n",
    "ax.set_xlabel('Magnitude Limit', fontsize=16)\n",
    "ax.set_ylabel('Modulus Bias', fontsize=16)\n",
    "band_label = band\n",
    "if band=='w1' or band=='w2':\n",
    "    band_label = band.upper()\n",
    "ax.set_xlabel('Magnitude Limit ('+band_label+'-band)', fontsize=16, labelpad=7)\n",
    "\n",
    "\n",
    "Ylm = ax.get_ylim() ; Xlm = ax.get_xlim()\n",
    "x0 = 0.9*Xlm[0]+0.1*Xlm[1]\n",
    "y0 = 0.1*Ylm[0]+0.9*Ylm[1]\n",
    "# ax.text(x0,y0, r\"$\\rho = $\"+\"%.3f\" % fit[0]+'$\\pm$'+\"%.3f\" % np.sqrt(cov[0][0]), fontsize=14, color='k')\n",
    "# y0 = 0.2*Ylm[0]+0.8*Ylm[1]\n",
    "# ax.text(x0,y0, r\"$\\gamma = $\"+\"%.2f\" % fit[1]+'$\\pm$'+\"%.2f\" % np.sqrt(cov[1][1]), fontsize=14, color='k')\n",
    "\n",
    "ax.plot([Mlim,Mlim], [-0.15,-0.1], 'b:')\n",
    "ax.plot([Mlim,Mlim], [0.3,1], 'b:')\n",
    "\n",
    "pos = {}\n",
    "pos['V'] = -0.02\n",
    "pos['U'] = -0.04\n",
    "pos['A26'] = -0.02\n",
    "pos['Ca'] = -0.02\n",
    "pos['Pe'] = -0.06\n",
    "pos['N5'] = -0.04\n",
    "pos['A4'] = -0.04\n",
    "pos['N7'] = -0.04\n",
    "pos['N41'] = -0.06\n",
    "pos['N8'] = -0.08\n",
    "pos['A2'] = -0.06\n",
    "pos['A1'] = -0.08\n",
    "pos['Co'] = -0.10\n",
    "pos['N40'] = -0.12\n",
    "pos['He'] = -0.10\n",
    "pos['F'] = -0.02\n",
    "\n",
    "for i, cc in enumerate(code):\n",
    "    cc = cc.strip()\n",
    "    if mag_lims[i]>0:\n",
    "        if param in DM_Dict[cc][band]:\n",
    "            limit_modulus = mag_lims[i]-DM_Dict[cc][band][param]\n",
    "            print cc, '%.2f'%limit_modulus, mag_lims[i],DM_Dict[cc][band][param]\n",
    "            try:\n",
    "                ax.text(limit_modulus, pos[cc]-0.01+0.15, cc, fontsize=10, color='k')\n",
    "            except:\n",
    "                pass\n",
    "            \n",
    "\n",
    "    "
   ]
  },
  {
   "cell_type": "code",
   "execution_count": 152,
   "metadata": {},
   "outputs": [
    {
     "ename": "TypeError",
     "evalue": "CurveFUN() takes exactly 2 arguments (4 given)",
     "output_type": "error",
     "traceback": [
      "\u001b[0;31m---------------------------------------------------------------------------\u001b[0m",
      "\u001b[0;31mTypeError\u001b[0m                                 Traceback (most recent call last)",
      "\u001b[0;32m<ipython-input-152-4006b0ce7102>\u001b[0m in \u001b[0;36m<module>\u001b[0;34m()\u001b[0m\n\u001b[1;32m      5\u001b[0m \u001b[0;34m\u001b[0m\u001b[0m\n\u001b[1;32m      6\u001b[0m \u001b[0mx\u001b[0m \u001b[0;34m=\u001b[0m \u001b[0mnp\u001b[0m\u001b[0;34m.\u001b[0m\u001b[0mlinspace\u001b[0m\u001b[0;34m(\u001b[0m\u001b[0;34m-\u001b[0m\u001b[0;36m5\u001b[0m\u001b[0;34m,\u001b[0m\u001b[0;36m5\u001b[0m\u001b[0;34m,\u001b[0m\u001b[0;36m50\u001b[0m\u001b[0;34m)\u001b[0m\u001b[0;34m\u001b[0m\u001b[0m\n\u001b[0;32m----> 7\u001b[0;31m \u001b[0my\u001b[0m \u001b[0;34m=\u001b[0m \u001b[0mCurveFUN\u001b[0m\u001b[0;34m(\u001b[0m\u001b[0mx\u001b[0m\u001b[0;34m-\u001b[0m\u001b[0;36m2.5\u001b[0m\u001b[0;34m,\u001b[0m \u001b[0mA0\u001b[0m\u001b[0;34m,\u001b[0m \u001b[0mB0\u001b[0m\u001b[0;34m,\u001b[0m \u001b[0mC0\u001b[0m\u001b[0;34m)\u001b[0m\u001b[0;34m\u001b[0m\u001b[0m\n\u001b[0m\u001b[1;32m      8\u001b[0m \u001b[0myl\u001b[0m \u001b[0;34m=\u001b[0m \u001b[0mslope\u001b[0m\u001b[0;34m*\u001b[0m\u001b[0;34m(\u001b[0m\u001b[0mx\u001b[0m\u001b[0;34m-\u001b[0m\u001b[0;36m2.5\u001b[0m\u001b[0;34m)\u001b[0m\u001b[0;34m+\u001b[0m\u001b[0mzp\u001b[0m\u001b[0;34m\u001b[0m\u001b[0m\n\u001b[1;32m      9\u001b[0m \u001b[0;34m\u001b[0m\u001b[0m\n",
      "\u001b[0;31mTypeError\u001b[0m: CurveFUN() takes exactly 2 arguments (4 given)"
     ]
    },
    {
     "data": {
      "image/png": "[encoded data removed]",
      "text/plain": [
       "<Figure size 500x500 with 3 Axes>"
      ]
     },
     "metadata": {
      "needs_background": "light"
     },
     "output_type": "display_data"
    }
   ],
   "source": [
    "fig, ax = makeFig(band=band, xLim = (1.6,3.1), yLim = (-11,-24), MAGabs=True)\n",
    "dye = {\"u\":\"blue\",\"g\":\"green\",\"r\":\"red\",\"i\":\"orange\",\"z\":\"maroon\",\"w1\":\"purple\", 'w2': \"brown\"}\n",
    "\n",
    "\n",
    "\n",
    "x = np.linspace(-5,5,50)\n",
    "y = CurveFUN(x-2.5, A0, B0, C0)\n",
    "yl = slope*(x-2.5)+zp  \n",
    " \n",
    "    \n",
    "simulMag, simulWimx = curveSimul(A0, B0, C0, Ms, alpha, \n",
    "               mag_scatter=rms, size=1000, seed=0)\n",
    "ax.plot(simulWimx, simulMag, '.', color=dye[band], alpha=0.4)\n",
    "print np.std(simulMag-(slope*(simulWimx-2.5)+zp))\n",
    "\n",
    "\n",
    "ax.plot(x,y, 'k-', lw=2) \n",
    "ax.plot(x,yl, 'r--', lw=2)  \n",
    "\n",
    "x = np.linspace(1.7,2.6,20)\n",
    "if band=='u':\n",
    "    ax.plot(x,-17+(2.68*(x-2.5)+1.58),'--', lw=1.5, color='navy')  \n",
    "if band=='g':\n",
    "    ax.plot(x,-17+(0.84*(x-2.5)+0.64),'--', lw=1.5, color='navy')  \n",
    "if band=='r':\n",
    "    ax.plot(x,-17+(0.27*(x-2.5)+0.23),'--', lw=1.5, color='navy')  \n",
    "if band=='i':\n",
    "    ax.plot(x,-17+(0*(x-2.5)+0),'--', lw=1.5, color='navy')      \n",
    "if band=='z':\n",
    "    ax.plot(x,-17-(0.25*(x-2.5)+0.12),'--', lw=1.5, color='navy')          \n",
    "if band=='w1':\n",
    "    ax.plot(x,-16.1*x/x,'--', lw=1.5, color='k')\n",
    "    ax.text(2.62, -17-(1.18*(2.55-2.5)-0.47)+0.9, 'M'+r'$_{W1}=-16.1$'+'  mag', fontsize=10, color='k')\n",
    "    \n",
    "if band=='w2':\n",
    "    ax.plot(x,-17-(1.32*(x-2.5)-1.04),'--', lw=1.5, color='navy') \n",
    "    \n",
    "    \n",
    "    \n",
    "for i, cc in enumerate(code):\n",
    "    cc = cc.strip()\n",
    "    if cc in ['V', 'A4', 'N7']:\n",
    "        if mag_lims[i]>0:\n",
    "            if param in DM_Dict[cc][band]:\n",
    "                limit_modulus = mag_lims[i]-DM_Dict[cc][band][param]\n",
    "                print cc, '%.2f'%limit_modulus, mag_lims[i],DM_Dict[cc][band][param]\n",
    "#                 ax.plot(x,limit_modulus-(1.18*(x-2.5)-0.47),'--', lw=1.0, color='navy')\n",
    "                ax.plot(x,limit_modulus*x/x,'--', lw=1.0, color='navy')\n",
    "\n",
    "                \n",
    "                if cc=='V':\n",
    "                    ax.text(2.62, limit_modulus-(1.18*(2.55-2.5)-0.47)-0.3, 'Virgo', fontsize=10, color='k')\n",
    "                elif cc=='A4':\n",
    "                    ax.text(2.62, limit_modulus-(1.18*(2.55-2.5)-0.47)-0.3, 'Abell 400', fontsize=10, color='k')\n",
    "                elif cc=='N7':\n",
    "                    ax.text(2.62, limit_modulus-(1.18*(2.55-2.5)-0.47)-0.3, 'NGC 70', fontsize=10, color='k')            \n",
    "    "
   ]
  },
  {
   "cell_type": "code",
   "execution_count": null,
   "metadata": {},
   "outputs": [],
   "source": []
  },
  {
   "cell_type": "code",
   "execution_count": null,
   "metadata": {},
   "outputs": [],
   "source": []
  },
  {
   "cell_type": "code",
   "execution_count": null,
   "metadata": {},
   "outputs": [],
   "source": []
  }
 ],
 "metadata": {
  "kernelspec": {
   "display_name": "Python 2",
   "language": "python",
   "name": "python2"
  },
  "language_info": {
   "codemirror_mode": {
    "name": "ipython",
    "version": 2
   },
   "file_extension": ".py",
   "mimetype": "text/x-python",
   "name": "python",
   "nbconvert_exporter": "python",
   "pygments_lexer": "ipython2",
   "version": "2.7.17"
  }
 },
 "nbformat": 4,
 "nbformat_minor": 2
}
