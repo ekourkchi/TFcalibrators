{
 "cells": [
  {
   "cell_type": "code",
   "execution_count": 1,
   "metadata": {},
   "outputs": [],
   "source": [
    "import sys\n",
    "import time\n",
    "import os\n",
    "import subprocess\n",
    "import math\n",
    "import matplotlib.pyplot as plt\n",
    "import numpy as np\n",
    "from astropy.table import Table, Column \n",
    "from scipy.stats import linregress\n",
    "from scipy import interpolate\n",
    "from scipy import polyval, polyfit\n",
    "from scipy.optimize import curve_fit\n",
    "from scipy import odr\n",
    "import pylab as py\n",
    "from matplotlib import gridspec\n",
    "import sklearn.datasets as ds\n",
    "from sklearn.ensemble import RandomForestRegressor\n",
    "from sklearn.datasets import make_regression\n",
    "import corner\n",
    "import emcee\n",
    "import scipy.optimize as op\n",
    "from scipy.linalg import cholesky, inv,det\n",
    "from scipy.optimize import minimize\n",
    "import random\n",
    "from astropy.table import Table, Column\n",
    "from linear_mcmc import *\n",
    "\n",
    "from redTools import *\n",
    "from Kcorrect import *\n",
    "from calibTools import *"
   ]
  },
  {
   "cell_type": "code",
   "execution_count": 2,
   "metadata": {},
   "outputs": [],
   "source": [
    "I_maglim = [5807393, 5807403, 5057729, 5059653, 4126669, 5059227, 38803, 39181, 39431, 39619, 39655, 40005, 40107, 40147, 40588, 40604, 41567, 41829, 42768, 41440, 37814, 39344, 13756, 14548, 14590]\n",
    "calib_maglim = [3974, 6699, 19871, 22277, 38148, 41020, 41066, 41093, 46127, 49448, 53641, 28378, 6699, 9962, 12460, 13163, 22277, 26761, 29128, 38148, 41020, 41066, 44982, 45084, 46127, 49448, 53641, 67908, 72228, 21102, 50073]\n"
   ]
  },
  {
   "cell_type": "code",
   "execution_count": 3,
   "metadata": {},
   "outputs": [],
   "source": [
    "####################################### Set Axes\n",
    "def set_axes(ax, xlim=None, ylim=None, fontsize=16, twinx=True, twiny=True, minor=True, inout='in'):\n",
    "        \n",
    "        if not ylim is None:\n",
    "            ax.set_ylim(ylim)\n",
    "        else:\n",
    "            ylim = ax.get_ylim() \n",
    "            \n",
    "        if not xlim is None:    \n",
    "            ax.set_xlim(xlim) \n",
    "        else:\n",
    "            xlim = ax.get_xlim()\n",
    "            \n",
    "        ax.tick_params(which='major', length=6, width=1., direction=inout)\n",
    "#         if minor:\n",
    "        ax.tick_params(which='minor', length=3, color='#000033', width=1.0, direction=inout)  \n",
    "        \n",
    "        if twiny:\n",
    "            y_ax = ax.twinx()\n",
    "            y_ax.set_ylim(ylim)\n",
    "            y_ax.set_yticklabels([])\n",
    "            y_ax.minorticks_on()\n",
    "            y_ax.tick_params(which='major', length=6, width=1., direction=inout)\n",
    "            if minor:\n",
    "                y_ax.tick_params(which='minor', length=3, color='#000033', width=1.0, direction=inout) \n",
    "        \n",
    "        if twinx:\n",
    "            x_ax = ax.twiny()\n",
    "            x_ax.set_xlim(xlim)\n",
    "            x_ax.set_xticklabels([])\n",
    "            x_ax.minorticks_on()\n",
    "            x_ax.tick_params(which='major', length=6, width=1.0, direction=inout)\n",
    "            if minor:\n",
    "                x_ax.tick_params(which='minor', length=3, color='#000033', width=1.0, direction=inout)     \n",
    "\n",
    "        for tick in ax.xaxis.get_major_ticks():\n",
    "                    tick.label.set_fontsize(fontsize) \n",
    "        for tick in ax.yaxis.get_major_ticks():\n",
    "                    tick.label.set_fontsize(fontsize) \n",
    "        \n",
    "        return x_ax, y_ax"
   ]
  },
  {
   "cell_type": "code",
   "execution_count": 44,
   "metadata": {},
   "outputs": [
    {
     "name": "stderr",
     "output_type": "stream",
     "text": [
      "/home/ehsan/anaconda2/lib/python2.7/site-packages/ipykernel_launcher.py:89: RuntimeWarning: divide by zero encountered in log10\n",
      "/home/ehsan/anaconda2/lib/python2.7/site-packages/ipykernel_launcher.py:89: RuntimeWarning: invalid value encountered in subtract\n",
      "/home/ehsan/anaconda2/lib/python2.7/site-packages/ipykernel_launcher.py:90: RuntimeWarning: divide by zero encountered in log10\n",
      "/home/ehsan/anaconda2/lib/python2.7/site-packages/ipykernel_launcher.py:90: RuntimeWarning: invalid value encountered in subtract\n",
      "/home/ehsan/anaconda2/lib/python2.7/site-packages/ipykernel_launcher.py:91: RuntimeWarning: divide by zero encountered in log10\n",
      "/home/ehsan/anaconda2/lib/python2.7/site-packages/ipykernel_launcher.py:91: RuntimeWarning: invalid value encountered in subtract\n",
      "/home/ehsan/anaconda2/lib/python2.7/site-packages/ipykernel_launcher.py:92: RuntimeWarning: divide by zero encountered in log10\n",
      "/home/ehsan/anaconda2/lib/python2.7/site-packages/ipykernel_launcher.py:92: RuntimeWarning: invalid value encountered in subtract\n",
      "/home/ehsan/anaconda2/lib/python2.7/site-packages/ipykernel_launcher.py:93: RuntimeWarning: divide by zero encountered in log10\n",
      "/home/ehsan/anaconda2/lib/python2.7/site-packages/ipykernel_launcher.py:93: RuntimeWarning: invalid value encountered in subtract\n",
      "/home/ehsan/anaconda2/lib/python2.7/site-packages/ipykernel_launcher.py:101: RuntimeWarning: divide by zero encountered in log10\n",
      "/home/ehsan/anaconda2/lib/python2.7/site-packages/ipykernel_launcher.py:101: RuntimeWarning: invalid value encountered in subtract\n",
      "/home/ehsan/anaconda2/lib/python2.7/site-packages/ipykernel_launcher.py:102: RuntimeWarning: divide by zero encountered in log10\n",
      "/home/ehsan/anaconda2/lib/python2.7/site-packages/ipykernel_launcher.py:102: RuntimeWarning: invalid value encountered in subtract\n"
     ]
    }
   ],
   "source": [
    "table   = np.genfromtxt('corrected_mags_linewidth_all.csv' , delimiter='|', \n",
    "                        filling_values=-1, names=True, dtype=None, encoding=None)\n",
    "\n",
    "catal   = np.genfromtxt('ESN_HI_catal_all.csv' , delimiter=',', \n",
    "                        filling_values=-1, names=True, dtype=None, encoding=None)\n",
    "pgc_catal   = catal['pgc']\n",
    "R50u_catal  = catal['R50_u']\n",
    "R50g_catal  = catal['R50_g']\n",
    "R50r_catal  = catal['R50_r']\n",
    "R50i_catal  = catal['R50_i']\n",
    "R50z_catal  = catal['R50_z']\n",
    "R50w1_catal = catal['R50_w1']\n",
    "R50w2_catal = catal['R50_w2']\n",
    "Sba_catal   = catal['Sba']\n",
    "Wba_catal   = catal['Wba']\n",
    "\n",
    "pgc_tab = table['pgc']\n",
    "u_tab   = table['u_sss']\n",
    "g_tab   = table['g_sss']\n",
    "r_tab   = table['r_sss']\n",
    "i_tab   = table['i_sss']\n",
    "z_tab   = table['z_sss']\n",
    "w1_tab  = table['w1_sss']\n",
    "w2_tab  = table['w2_sss']\n",
    "m21_tab = table['m21']\n",
    "inc_tab = table['inc']\n",
    "Sqlt = table['Sqlt']\n",
    "Wqlt = table['Wqlt']\n",
    "logWimx   = table['logWimx']\n",
    "logWimx_e = table['logWimx_e']\n",
    "Vhel = table['Vhel']\n",
    "Vls = table['Vls']\n",
    "\n",
    "\n",
    "N = len(pgc_tab)\n",
    "inc  = np.zeros(N)\n",
    "m21  = np.zeros(N)\n",
    "Sba  = np.zeros(N)\n",
    "Wba  = np.zeros(N)\n",
    "\n",
    "uuu  = np.zeros(N)\n",
    "ggg  = np.zeros(N)\n",
    "rrr  = np.zeros(N)\n",
    "iii  = np.zeros(N)\n",
    "zzz  = np.zeros(N)\n",
    "w11  = np.zeros(N)\n",
    "w22  = np.zeros(N)\n",
    "\n",
    "R50u  = np.zeros(N)\n",
    "R50g  = np.zeros(N)\n",
    "R50r  = np.zeros(N)\n",
    "R50i  = np.zeros(N)\n",
    "R50z  = np.zeros(N)\n",
    "R50w1 = np.zeros(N)\n",
    "R50w2 = np.zeros(N)\n",
    "\n",
    "SSqlt = np.zeros(N)\n",
    "WWqlt = np.zeros(N)\n",
    "\n",
    "for i, idd in enumerate(pgc_tab):\n",
    "    if idd in pgc_catal:\n",
    "        indx,   = np.where(pgc_catal==idd)\n",
    "        R50u[i]  = R50u_catal[indx][0]\n",
    "        R50g[i]  = R50g_catal[indx][0]\n",
    "        R50r[i]  = R50r_catal[indx][0]\n",
    "        R50i[i]  = R50i_catal[indx][0]\n",
    "        R50z[i]  = R50z_catal[indx][0]\n",
    "        R50w1[i] = R50w1_catal[indx][0]\n",
    "        R50w2[i] = R50w2_catal[indx][0]\n",
    "        Sba[i]   = Sba_catal[indx][0]\n",
    "        Wba[i]   = Wba_catal[indx][0]\n",
    "\n",
    "    if idd in pgc_tab:\n",
    "        indx,  = np.where(pgc_tab==idd)    \n",
    "        inc[i] = inc_tab[indx][0]\n",
    "        uuu[i] = u_tab[indx][0]\n",
    "        ggg[i] = g_tab[indx][0]\n",
    "        rrr[i] = r_tab[indx][0]\n",
    "        iii[i] = i_tab[indx][0]\n",
    "        zzz[i] = z_tab[indx][0]\n",
    "        w11[i] = w1_tab[indx][0]\n",
    "        w22[i] = w2_tab[indx][0]\n",
    "        m21[i] = m21_tab[indx][0]   \n",
    "        SSqlt[i] = Sqlt[indx][0]   \n",
    "        WWqlt[i] = Wqlt[indx][0]   \n",
    "    \n",
    "    \n",
    "    \n",
    "mu50_u  = uuu+2.5*np.log10(2.*np.pi*(R50u*60)**2)-2.5*np.log10(Sba)\n",
    "mu50_g  = ggg+2.5*np.log10(2.*np.pi*(R50g*60)**2)-2.5*np.log10(Sba)\n",
    "mu50_r  = rrr+2.5*np.log10(2.*np.pi*(R50r*60)**2)-2.5*np.log10(Sba)\n",
    "mu50_i  = iii+2.5*np.log10(2.*np.pi*(R50i*60)**2)-2.5*np.log10(Sba)\n",
    "mu50_z  = zzz+2.5*np.log10(2.*np.pi*(R50z*60)**2)-2.5*np.log10(Sba)\n",
    "m21_u   = m21 - uuu\n",
    "m21_g   = m21 - ggg\n",
    "m21_r   = m21 - rrr\n",
    "m21_i   = m21 - iii\n",
    "m21_z   = m21 - zzz\n",
    "\n",
    "\n",
    "mu50_w1  = w11+2.5*np.log10(2.*np.pi*(R50w1*60)**2)-2.5*np.log10(Wba)\n",
    "mu50_w2  = w22+2.5*np.log10(2.*np.pi*(R50w2*60)**2)-2.5*np.log10(Wba)\n",
    "m21_w1   = m21 - w11\n",
    "m21_w2   = m21 - w22\n",
    "\n",
    "u_i   = uuu-iii\n",
    "g_i   = ggg-iii\n",
    "r_i   = rrr-iii\n",
    "i_z   = iii-zzz\n",
    "g_z   = ggg-zzz\n",
    "i_w1  = iii-w11\n",
    "i_w2  = iii-w22\n",
    "r_z   = rrr-zzz\n",
    "g_r   = ggg-rrr\n",
    "r_z   = rrr-zzz"
   ]
  },
  {
   "cell_type": "code",
   "execution_count": 5,
   "metadata": {},
   "outputs": [],
   "source": [
    "####################################\n",
    "def TFRcurve(logW, slope, zp, A, band):\n",
    "\n",
    "\n",
    "    if band in ['w1', 'w2']:\n",
    "        logW0=2.4 \n",
    "    else:\n",
    "        logW0=2.5\n",
    "\n",
    "    X0 = logW0 - 2.5\n",
    "    X = logW-2.5\n",
    "    B = -2.*A*X0\n",
    "    M = slope*X+(zp)\n",
    "    delta = ((A*X**2+B*X) - (A*X0**2+B*X0))\n",
    "\n",
    "    try:\n",
    "        delta[np.where(logW<logW0)] = 0\n",
    "    except:\n",
    "        if logW<logW0:\n",
    "            delta = 0\n",
    "\n",
    "    return M+delta\n",
    "####################################\n",
    "\n",
    "def DMcalc(logW, mag, band='i', deltaDM=0, dlogW=None):\n",
    "    \n",
    "    dmag = 0.05\n",
    "    ds=0; dzp=0\n",
    "    if band=='u':\n",
    "        dmag = 0.1\n",
    "        slope=-7.03 ; zp=-19.27; Czp=-0.08; A2=6.59\n",
    "        ds = 0.17 ; dzp = 0.13\n",
    "    elif band=='g':\n",
    "        slope=-7.37 ; zp=-20.15; Czp=-0.11; A2=4.18\n",
    "        ds = 0.13 ; dzp = 0.11\n",
    "    elif band=='r':\n",
    "        slope=-7.96 ; zp=-20.57; Czp=-0.08; A2=4.56   \n",
    "        ds = 0.13 ; dzp = 0.10\n",
    "    elif band=='i':\n",
    "        slope=-8.32 ; zp=-20.80; Czp=-0.04; A2=5.34\n",
    "#         Czp=-0.1;# A2=0\n",
    "        ds = 0.13 ; dzp = 0.10\n",
    "    elif band=='z':\n",
    "        slope=-8.46 ; zp=-20.89; Czp=-0.08; A2=5.81 \n",
    "        ds = 0.13 ; dzp = 0.10\n",
    "    elif band=='w1':\n",
    "        slope=-9.47 ; zp=-20.36; Czp=0.0; A2=3.81\n",
    "        ds = 0.14 ; dzp = 0.07\n",
    "    elif band=='w2':\n",
    "        slope=-9.66 ; zp=-19.76; Czp=0.0; A2=4.42\n",
    "        ds = 0.14 ; dzp = 0.07\n",
    "        \n",
    "        \n",
    "#     MAG = TFRcurve(logW, slope, zp, A2, band) + Czp\n",
    "    MAG = slope*(logW-2.5) + zp\n",
    "    DM = (mag-MAG) + deltaDM\n",
    "    \n",
    "    if not dlogW is None:\n",
    "        dMAG2 = (slope*dlogW)**2 + dzp**2# + (ds*(logW-2.5))**2\n",
    "#         dDM = np.sqrt(dmag**2+dMAG2)\n",
    "        dDM = np.sqrt(dMAG2)\n",
    "        \n",
    "#         dDM = np.abs(slope*dlogW)\n",
    "        \n",
    "        return DM, dDM\n",
    "    else:\n",
    "        return DM\n",
    "    \n",
    "################################### "
   ]
  },
  {
   "cell_type": "code",
   "execution_count": null,
   "metadata": {},
   "outputs": [],
   "source": []
  },
  {
   "cell_type": "code",
   "execution_count": 40,
   "metadata": {},
   "outputs": [],
   "source": [
    "DM_u, dDM_u = DMcalc(logWimx, uuu, band='u', deltaDM=0, dlogW=logWimx_e)\n",
    "DM_g, dDM_g = DMcalc(logWimx, ggg, band='g', deltaDM=0, dlogW=logWimx_e)\n",
    "DM_r, dDM_r = DMcalc(logWimx, rrr, band='r', deltaDM=0, dlogW=logWimx_e)\n",
    "DM_i, dDM_i = DMcalc(logWimx, iii, band='i', deltaDM=0, dlogW=logWimx_e)\n",
    "DM_z, dDM_z = DMcalc(logWimx, zzz, band='z', deltaDM=0, dlogW=logWimx_e)\n",
    "\n",
    "DM_1, dDM_1 = DMcalc(logWimx, w11, band='w1', deltaDM=0, dlogW=logWimx_e)\n",
    "DM_2, dDM_2 = DMcalc(logWimx, w22, band='w2', deltaDM=0, dlogW=logWimx_e)"
   ]
  },
  {
   "cell_type": "code",
   "execution_count": 45,
   "metadata": {},
   "outputs": [
    {
     "data": {
      "text/plain": [
       "(6616,)"
      ]
     },
     "execution_count": 45,
     "metadata": {},
     "output_type": "execute_result"
    }
   ],
   "source": [
    "table = pd.read_fwf('DMi_V_m17rev.6616.spgc')\n",
    "# table = pd.read_fwf('DMW1_V_m161rev.5065.spgc')\n",
    "\n",
    "pgc_b = np.asarray(table['PGC'])\n",
    "Vmod = np.asarray(table['Vmod'])\n",
    "dmi = np.asarray(table['dmi'])\n",
    "edmi = np.asarray(table['edmi'])\n",
    "\n",
    "\n",
    "pgc_b.shape"
   ]
  },
  {
   "cell_type": "code",
   "execution_count": 46,
   "metadata": {},
   "outputs": [
    {
     "data": {
      "text/plain": [
       "(430,)"
      ]
     },
     "execution_count": 46,
     "metadata": {},
     "output_type": "execute_result"
    }
   ],
   "source": [
    "table   = np.genfromtxt('Clusters_i.csv' , delimiter='|', \n",
    "                        filling_values=-1, names=True, dtype=None, encoding=None)\n",
    "\n",
    "\n",
    "pgc_i = table['pgc']\n",
    "Cname = table['Cluster']\n",
    "\n",
    "pgc_i.shape"
   ]
  },
  {
   "cell_type": "code",
   "execution_count": 54,
   "metadata": {},
   "outputs": [],
   "source": [
    "logH = Vmod*0.\n",
    "elogW = Vmod*0.\n",
    "logW = Vmod*0.\n",
    "dDM = Vmod*0.\n",
    "\n",
    "incL = Vmod*0.\n",
    "\n",
    "# DM_clusters = {}\n",
    "# for i, idd in enumerate(pgc_i):\n",
    "for i, idd in enumerate(pgc_b):\n",
    "    \n",
    "    if idd in pgc_tab:\n",
    "        j, = np.where(pgc_tab==idd)\n",
    "\n",
    "        logD = (DM_i[j][0]-25)/5.\n",
    "        elogW[i] = logWimx_e[j][0]\n",
    "        logW[i] = logWimx[j][0]\n",
    "        dDM[i] = dDM_i[j][0]\n",
    "    #     dDM[i] = edmi[i]\n",
    "    #     logD = (dmi[i]-25)/5.\n",
    "\n",
    "    #     ClusterName = Cname[i].strip()\n",
    "\n",
    "    #     if True: #idd in pgc_b:\n",
    "    #         k, = np.where(pgc_b==idd)\n",
    "    #         logH[i] = np.log10(Vmod[k][0]) - logD\n",
    "    #         dDM[i] = edmi[k][0]\n",
    "\n",
    "    #         print DM_i[j][0]\n",
    "    #         if ClusterName in DM_clusters:\n",
    "    #             DM_clusters[ClusterName].append(DM_i[j][0])\n",
    "    #         else:\n",
    "    #             DM_clusters[ClusterName] = [DM_i[j][0]]\n",
    "\n",
    "\n",
    "        logH[i] = np.log10(Vmod[i]) - logD   \n",
    "        incL[i] = inc[j][0]\n",
    "    "
   ]
  },
  {
   "cell_type": "code",
   "execution_count": 49,
   "metadata": {},
   "outputs": [
    {
     "name": "stdout",
     "output_type": "stream",
     "text": [
      "NGC507 \t\t\t33.86 0.53\n",
      "Abell 1367 \t\t\t34.65 0.55\n",
      "NGC70 \t\t\t34.58 0.34\n",
      "Cancer \t\t\t33.97 0.46\n",
      "Abell 2634/66 \t\t\t35.09 0.46\n",
      "NGC4065 \t\t\t35.11 0.39\n",
      "NGC80 \t\t\t34.36 0.39\n",
      "Abell 400 \t\t\t34.55 0.52\n",
      "Virgo \t\t\t30.66 0.67\n",
      "Pegasus \t\t\t33.16 0.58\n",
      "Abell 2151 (Hercules) \t\t\t35.76 0.41\n",
      "Coma \t\t\t34.68 0.55\n",
      "Ursa Major \t\t\t31.15 0.52\n",
      "NGC410 \t\t\t33.84 0.51\n"
     ]
    }
   ],
   "source": [
    "for key in DM_clusters:\n",
    "    \n",
    "    ave = np.mean(DM_clusters[key])\n",
    "    std = np.std(DM_clusters[key])\n",
    "    print key, \"\\t\\t\\t%.2f\"%ave, \"%.2f\"%std\n",
    "    "
   ]
  },
  {
   "cell_type": "code",
   "execution_count": 50,
   "metadata": {},
   "outputs": [],
   "source": [
    "def add2Dict0(myDict, code, band, Mlim):\n",
    "    \n",
    "    if not code in myDict:\n",
    "        myDict[code]={}\n",
    "    myDict[code][band]= Mlim\n",
    "    \n",
    "\n",
    "\n",
    "\n",
    "def add2Dict(myDict, code, band, param, DM):\n",
    "    \n",
    "    if not code in myDict:\n",
    "        myDict[code]={}\n",
    "    if not band in myDict[code]:\n",
    "        myDict[code][band]={}\n",
    "    if not param in myDict[code][band]:\n",
    "        myDict[code][band][param]={}\n",
    "    myDict[code][band][param] = DM\n",
    "##############################################   \n",
    "table   = np.genfromtxt('cluster_code_Mlimit_revised.csv' , delimiter=',', \n",
    "                        filling_values=0, names=True, dtype=None, encoding=None)\n",
    "\n",
    "mag_lims_u = table['u']\n",
    "mag_lims_g = table['g']\n",
    "mag_lims_r = table['r']\n",
    "mag_lims_i = table['i']\n",
    "mag_lims_z = table['z']\n",
    "mag_lims_w1 = table['w1']\n",
    "mag_lims_w2 = table['w2']\n",
    "code = table['Code']  \n",
    "Mlim_dict = {} \n",
    "\n",
    "for i, myCode in enumerate(code):\n",
    "    myCode = myCode.strip()\n",
    "    add2Dict0(Mlim_dict, myCode, 'u', mag_lims_u[i])\n",
    "    add2Dict0(Mlim_dict, myCode, 'g', mag_lims_g[i])\n",
    "    add2Dict0(Mlim_dict, myCode, 'r', mag_lims_r[i])\n",
    "    add2Dict0(Mlim_dict, myCode, 'i', mag_lims_i[i])\n",
    "    add2Dict0(Mlim_dict, myCode, 'z', mag_lims_z[i])\n",
    "    add2Dict0(Mlim_dict, myCode, 'w1', mag_lims_w1[i])\n",
    "    add2Dict0(Mlim_dict, myCode, 'w2', mag_lims_w2[i])\n",
    "    \n",
    "##############################################\n",
    "table   = np.genfromtxt('cluster_DM_code.csv' , delimiter=',', \n",
    "                        filling_values=0, names=True, dtype=None, encoding=None)\n",
    "DM_band = table['band']\n",
    "DM_param = table['param']\n",
    "DM_code = table['Code']\n",
    "DM_cluster = table['Cluster']\n",
    "DM_Ngal = table['Ngal']\n",
    "DM = table['DM']\n",
    "DMe = table['DMe']\n",
    "##############################################\n",
    "    \n",
    "DM_Dict = {}    \n",
    "for i, myCode in enumerate(DM_code):\n",
    "    add2Dict(DM_Dict, myCode.strip(), DM_band[i].strip(), DM_param[i].strip(), np.float(DM[i]))  "
   ]
  },
  {
   "cell_type": "code",
   "execution_count": 51,
   "metadata": {},
   "outputs": [
    {
     "name": "stdout",
     "output_type": "stream",
     "text": [
      "-0.1227983690028222\n"
     ]
    },
    {
     "data": {
      "image/png": "[encoded data removed]",
      "text/plain": [
       "<Figure size 500x500 with 1 Axes>"
      ]
     },
     "metadata": {
      "needs_background": "light"
     },
     "output_type": "display_data"
    }
   ],
   "source": [
    "def convertKey(key):\n",
    "    \n",
    "    if key=='N8': return \"NGC80\"\n",
    "    if key=='Hy': return \"Hydra\"\n",
    "    if key=='Co': return \"Coma\"\n",
    "    if key=='A26': return \"Abell 2634/66\"\n",
    "    if key=='F': return \"Fornax\"\n",
    "    if key=='N41': return \"NGC410\"\n",
    "    if key=='N40': return \"NGC4065\"\n",
    "    if key=='Ca': return \"Cancer\"\n",
    "    if key=='V': return \"Virgo\"\n",
    "    if key=='Ce': return \"Centaurus\"\n",
    "    if key=='An': return \"Antlia\"\n",
    "    if key=='A1': return \"Abell 1367\"\n",
    "    if key=='A2': return \"Abell 262\"\n",
    "    if key=='Pe': return \"Pegasus\"\n",
    "    if key=='A5': return \"Abell 539\"\n",
    "    if key=='He': return \"Abell 2151 (Hercules)\"\n",
    "    if key=='N5': return \"NGC507\"\n",
    "    if key=='N7': return \"NGC70\"\n",
    "    if key=='U': return \"Ursa Major\"\n",
    "    if key=='A4': return \"Abell 400\"\n",
    "    return None\n",
    "\n",
    "\n",
    "fig = py.figure(figsize=(5,5), dpi=100)    \n",
    "fig.subplots_adjust(wspace=0, top=0.9, bottom=0.12, left=0.05, right=0.98)\n",
    "ax = fig.add_subplot(111)\n",
    "\n",
    "dDM = [] \n",
    "\n",
    "for key in DM_Dict:\n",
    "    if 'i' in DM_Dict[key]:\n",
    "        ClusterName = convertKey(key)\n",
    "        if ClusterName in DM_clusters and not ClusterName=='Abell 262':\n",
    "        \n",
    "            ave = np.mean(DM_clusters[ClusterName])\n",
    "            std = np.std(DM_clusters[ClusterName])\n",
    "\n",
    "            ax.errorbar(DM_Dict[key]['i']['a'], ave, yerr=std, fmt='o', label=ClusterName)\n",
    "            dDM.append(ave - DM_Dict[key]['i']['a'])\n",
    "\n",
    "ax.plot([30,37],[30,37], 'k--')\n",
    "ax.legend(loc=2, bbox_to_anchor=(1.05, 1.01))\n",
    "\n",
    "font = {'family': 'serif',\n",
    "        'color':  'black',\n",
    "        'weight': 'normal',\n",
    "        'size': 16,\n",
    "        }\n",
    "\n",
    "ax.set_ylabel(r'$DM_{av}$'+ '   galaxies', fontsize=17, fontdict=font)\n",
    "ax.set_xlabel(r'$DM_i$' + '   cluster', fontsize=17)\n",
    "\n",
    "\n",
    "print np.mean(dDM)"
   ]
  },
  {
   "cell_type": "code",
   "execution_count": 73,
   "metadata": {},
   "outputs": [
    {
     "data": {
      "text/plain": [
       "(<matplotlib.axes._subplots.AxesSubplot at 0x7f3b95b54e90>,\n",
       " <matplotlib.axes._subplots.AxesSubplot at 0x7f3b9489a350>)"
      ]
     },
     "execution_count": 73,
     "metadata": {},
     "output_type": "execute_result"
    },
    {
     "data": {
      "image/png": "[encoded data removed]",
      "text/plain": [
       "<Figure size 500x500 with 3 Axes>"
      ]
     },
     "metadata": {
      "needs_background": "light"
     },
     "output_type": "display_data"
    }
   ],
   "source": [
    "table = pd.read_fwf('DMi_V_m17rev.6616.spgc')\n",
    "# table = pd.read_fwf('DMW1_V_m161rev.5065.spgc')\n",
    "\n",
    "pgc_b = np.asarray(table['PGC'])\n",
    "Vmod = np.asarray(table['Vmod'])\n",
    "dmi = np.asarray(table['dmi'])\n",
    "edmi = np.asarray(table['edmi'])\n",
    "\n",
    "\n",
    "pgc_b.shape\n",
    "\n",
    "indx, = np.where((logH<3.2) & (logH>0))\n",
    "\n",
    "\n",
    "fig = py.figure(figsize=(5,5), dpi=100)    \n",
    "fig.subplots_adjust(wspace=0, top=0.9, bottom=0.12, left=0.05, right=0.98)\n",
    "ax = fig.add_subplot(111)\n",
    "\n",
    "\n",
    "# plt.plot(Vmod[indx], logH[indx], 'k.', alpha=0.5)\n",
    "# plt.plot(Vmod, logH, 'k.', alpha=0.5)\n",
    "\n",
    "\n",
    "\n",
    "\n",
    "ax.plot(incL[indx], logH[indx], 'k.', alpha=0.5)\n",
    "\n",
    "\n",
    "\n",
    "X = incL[indx]\n",
    "Y = logH[indx]\n",
    "for i in np.arange(45, 95,5):\n",
    "    xp = []\n",
    "    yp = []\n",
    "    for ii in range(len(X)):\n",
    "        xi = X[ii]\n",
    "        if xi>=i and xi<i+5:\n",
    "            xp.append(xi)\n",
    "            yp.append(Y[ii])\n",
    "    if len(xp)>0:\n",
    "        ax.errorbar(np.median(xp), np.median(yp), yerr=np.std(yp), xerr=np.std(xp), fmt='o', \n",
    "                    color='r', ms=6)     \n",
    "\n",
    "ax.set_xlabel('Inclination [deg]', fontsize=18) \n",
    "ax.set_ylabel(r'$log \\/\\/\\/ H_0$', fontsize=18) \n",
    "\n",
    "set_axes(ax)"
   ]
  },
  {
   "cell_type": "code",
   "execution_count": null,
   "metadata": {},
   "outputs": [],
   "source": []
  },
  {
   "cell_type": "code",
   "execution_count": 33,
   "metadata": {},
   "outputs": [
    {
     "name": "stdout",
     "output_type": "stream",
     "text": [
      "83.55400935589856\n"
     ]
    }
   ],
   "source": [
    "print(10**np.mean(logH[np.where((Vmod>0) & (logH<3)& (logH>0) & (logW>1.))]))\n"
   ]
  },
  {
   "cell_type": "code",
   "execution_count": 15,
   "metadata": {},
   "outputs": [
    {
     "data": {
      "text/plain": [
       "10736"
      ]
     },
     "execution_count": 15,
     "metadata": {},
     "output_type": "execute_result"
    }
   ],
   "source": [
    "len(pgc_tab)"
   ]
  },
  {
   "cell_type": "code",
   "execution_count": 16,
   "metadata": {},
   "outputs": [
    {
     "name": "stdout",
     "output_type": "stream",
     "text": [
      "6616\n"
     ]
    }
   ],
   "source": [
    "print len(logH)"
   ]
  },
  {
   "cell_type": "code",
   "execution_count": 17,
   "metadata": {},
   "outputs": [
    {
     "data": {
      "text/plain": [
       "(6616, 6616)"
      ]
     },
     "execution_count": 17,
     "metadata": {},
     "output_type": "execute_result"
    }
   ],
   "source": [
    "len(logH), len(elogW)"
   ]
  },
  {
   "cell_type": "code",
   "execution_count": 23,
   "metadata": {},
   "outputs": [],
   "source": [
    "indx, = np.where((Vmod>0) & (logH<3)& (logH>0))\n",
    "lH  = logH[indx]\n",
    "elW = elogW[indx]\n",
    "# emi = dDM[indx]"
   ]
  },
  {
   "cell_type": "code",
   "execution_count": 24,
   "metadata": {},
   "outputs": [
    {
     "ename": "NameError",
     "evalue": "name 'emi' is not defined",
     "output_type": "error",
     "traceback": [
      "\u001b[0;31m---------------------------------------------------------------------------\u001b[0m",
      "\u001b[0;31mNameError\u001b[0m                                 Traceback (most recent call last)",
      "\u001b[0;32m<ipython-input-24-0e4e2b983530>\u001b[0m in \u001b[0;36m<module>\u001b[0;34m()\u001b[0m\n\u001b[0;32m----> 1\u001b[0;31m \u001b[0mlen\u001b[0m\u001b[0;34m(\u001b[0m\u001b[0mlH\u001b[0m\u001b[0;34m)\u001b[0m\u001b[0;34m,\u001b[0m \u001b[0mlen\u001b[0m\u001b[0;34m(\u001b[0m\u001b[0melW\u001b[0m\u001b[0;34m)\u001b[0m\u001b[0;34m,\u001b[0m \u001b[0mlen\u001b[0m\u001b[0;34m(\u001b[0m\u001b[0memi\u001b[0m\u001b[0;34m)\u001b[0m\u001b[0;34m\u001b[0m\u001b[0m\n\u001b[0m",
      "\u001b[0;31mNameError\u001b[0m: name 'emi' is not defined"
     ]
    }
   ],
   "source": [
    "len(lH), len(elW), len(emi)"
   ]
  },
  {
   "cell_type": "code",
   "execution_count": 25,
   "metadata": {},
   "outputs": [
    {
     "name": "stderr",
     "output_type": "stream",
     "text": [
      "/home/ehsan/anaconda2/lib/python2.7/site-packages/ipykernel_launcher.py:1: RuntimeWarning: invalid value encountered in double_scalars\n",
      "  \"\"\"Entry point for launching an IPython kernel.\n"
     ]
    },
    {
     "data": {
      "text/plain": [
       "nan"
      ]
     },
     "execution_count": 25,
     "metadata": {},
     "output_type": "execute_result"
    }
   ],
   "source": [
    "10**(np.sum(lH/elW**1)/np.sum(1./elW**1))"
   ]
  },
  {
   "cell_type": "code",
   "execution_count": 21,
   "metadata": {},
   "outputs": [
    {
     "name": "stderr",
     "output_type": "stream",
     "text": [
      "/home/ehsan/anaconda2/lib/python2.7/site-packages/ipykernel_launcher.py:1: RuntimeWarning: invalid value encountered in double_scalars\n",
      "  \"\"\"Entry point for launching an IPython kernel.\n"
     ]
    },
    {
     "data": {
      "text/plain": [
       "nan"
      ]
     },
     "execution_count": 21,
     "metadata": {},
     "output_type": "execute_result"
    }
   ],
   "source": [
    "10**(np.sum(lH/elW**2)/np.sum(1./elW**2))"
   ]
  },
  {
   "cell_type": "code",
   "execution_count": null,
   "metadata": {},
   "outputs": [],
   "source": []
  },
  {
   "cell_type": "code",
   "execution_count": 22,
   "metadata": {},
   "outputs": [
    {
     "ename": "NameError",
     "evalue": "name 'emi' is not defined",
     "output_type": "error",
     "traceback": [
      "\u001b[0;31m---------------------------------------------------------------------------\u001b[0m",
      "\u001b[0;31mNameError\u001b[0m                                 Traceback (most recent call last)",
      "\u001b[0;32m<ipython-input-22-fcdac100b72d>\u001b[0m in \u001b[0;36m<module>\u001b[0;34m()\u001b[0m\n\u001b[0;32m----> 1\u001b[0;31m \u001b[0;36m10\u001b[0m\u001b[0;34m**\u001b[0m\u001b[0;34m(\u001b[0m\u001b[0mnp\u001b[0m\u001b[0;34m.\u001b[0m\u001b[0msum\u001b[0m\u001b[0;34m(\u001b[0m\u001b[0mlH\u001b[0m\u001b[0;34m/\u001b[0m\u001b[0memi\u001b[0m\u001b[0;34m**\u001b[0m\u001b[0;36m1\u001b[0m\u001b[0;34m)\u001b[0m\u001b[0;34m/\u001b[0m\u001b[0mnp\u001b[0m\u001b[0;34m.\u001b[0m\u001b[0msum\u001b[0m\u001b[0;34m(\u001b[0m\u001b[0;36m1.\u001b[0m\u001b[0;34m/\u001b[0m\u001b[0memi\u001b[0m\u001b[0;34m**\u001b[0m\u001b[0;36m1\u001b[0m\u001b[0;34m)\u001b[0m\u001b[0;34m)\u001b[0m\u001b[0;34m\u001b[0m\u001b[0m\n\u001b[0m",
      "\u001b[0;31mNameError\u001b[0m: name 'emi' is not defined"
     ]
    }
   ],
   "source": [
    "10**(np.sum(lH/emi**1)/np.sum(1./emi**1))"
   ]
  },
  {
   "cell_type": "code",
   "execution_count": null,
   "metadata": {},
   "outputs": [],
   "source": [
    "10**(np.sum(lH/emi**2)/np.sum(1./emi**2))"
   ]
  },
  {
   "cell_type": "code",
   "execution_count": null,
   "metadata": {},
   "outputs": [],
   "source": [
    "print 10**np.mean(lH)\n",
    "print np.mean(10**lH)"
   ]
  },
  {
   "cell_type": "code",
   "execution_count": null,
   "metadata": {},
   "outputs": [],
   "source": []
  },
  {
   "cell_type": "code",
   "execution_count": null,
   "metadata": {},
   "outputs": [],
   "source": []
  },
  {
   "cell_type": "code",
   "execution_count": null,
   "metadata": {},
   "outputs": [],
   "source": []
  },
  {
   "cell_type": "code",
   "execution_count": null,
   "metadata": {},
   "outputs": [],
   "source": []
  },
  {
   "cell_type": "code",
   "execution_count": null,
   "metadata": {},
   "outputs": [],
   "source": [
    "10**(np.sum(lH*emi**1)/np.sum(1.*emi**1))"
   ]
  },
  {
   "cell_type": "code",
   "execution_count": null,
   "metadata": {},
   "outputs": [],
   "source": [
    "10**(np.sum(lH*emi**2)/np.sum(1.*emi**2))"
   ]
  },
  {
   "cell_type": "code",
   "execution_count": null,
   "metadata": {},
   "outputs": [],
   "source": [
    "def Vh2V3k(el,b, Vh):\n",
    "  \n",
    "    alpha = np.pi / 180.\n",
    "    cosb = np.cos(b*alpha)\n",
    "    sinb = np.sin(b*alpha)\n",
    "    cosl = np.cos(el*alpha)\n",
    "    sinl = np.sin(el*alpha)\n",
    "    \n",
    "    v3k = Vh-25.2*cosl*cosb-245.7*sinl*cosb+276.8*sinb\n",
    "\n",
    "    return v3k\n",
    "\n",
    "def Vcmb2Vmod(Vcmb, omegam=0.27):\n",
    "    \n",
    "    omegal=1.-omegam\n",
    "    c=299800.\n",
    "    z=Vcmb/c\n",
    "    q0=0.5*(omegam-2.*omegal)\n",
    "    fmod=1.+0.5*(1.-q0)*z-(1./6)*(1.-q0-3.*q0**2+1.)*z**2\n",
    "    Vmod=c*z*fmod\n",
    "\n",
    "    return Vmod"
   ]
  },
  {
   "cell_type": "code",
   "execution_count": null,
   "metadata": {},
   "outputs": [],
   "source": [
    "i = 120\n",
    "v_cmb = Vh2V3k(gl[i], gb[i], Vh[i])\n",
    "v_mod = Vcmb2Vmod(v_cmb)\n",
    "\n",
    "print v_mod , Vmod[i]"
   ]
  },
  {
   "cell_type": "code",
   "execution_count": null,
   "metadata": {},
   "outputs": [],
   "source": []
  },
  {
   "cell_type": "code",
   "execution_count": null,
   "metadata": {},
   "outputs": [],
   "source": [
    "DMi_brent = pd.read_fwf('DMi_V_m17rev.6616.spgc')\n",
    "DMw1_brent = pd.read_fwf('DMW1_V_m161rev.5065.spgc')"
   ]
  },
  {
   "cell_type": "code",
   "execution_count": null,
   "metadata": {},
   "outputs": [],
   "source": [
    "np.asarray(DMi_brent['PGC'])"
   ]
  },
  {
   "cell_type": "code",
   "execution_count": null,
   "metadata": {},
   "outputs": [],
   "source": []
  }
 ],
 "metadata": {
  "kernelspec": {
   "display_name": "Python 2",
   "language": "python",
   "name": "python2"
  },
  "language_info": {
   "codemirror_mode": {
    "name": "ipython",
    "version": 2
   },
   "file_extension": ".py",
   "mimetype": "text/x-python",
   "name": "python",
   "nbconvert_exporter": "python",
   "pygments_lexer": "ipython2",
   "version": "2.7.15"
  }
 },
 "nbformat": 4,
 "nbformat_minor": 2
}
