{
 "cells": [
  {
   "cell_type": "code",
   "execution_count": 1,
   "metadata": {},
   "outputs": [],
   "source": [
    "import numpy as np"
   ]
  },
  {
   "cell_type": "code",
   "execution_count": 8,
   "metadata": {},
   "outputs": [
    {
     "name": "stdout",
     "output_type": "stream",
     "text": [
      "365\n",
      "365 525600\n"
     ]
    }
   ],
   "source": [
    "Y = [31,28,31,30,31,30,31,31,30,31,30,31]\n",
    "print np.sum(Y)\n",
    "C = 0 \n",
    "P = 0 \n",
    "for M in range(12):\n",
    "    for D in range(Y[M]):\n",
    "        P+=1\n",
    "        for H in range(24):\n",
    "            for m in range(60):\n",
    "#                 print M+1, D+1, H, m\n",
    "                C+=1\n",
    "print P, C\n",
    "                \n",
    "    "
   ]
  },
  {
   "cell_type": "code",
   "execution_count": 2,
   "metadata": {},
   "outputs": [
    {
     "name": "stdout",
     "output_type": "stream",
     "text": [
      "23\n"
     ]
    }
   ],
   "source": [
    "Month = 0  # 0-11\n",
    "Day = 1  # 1-31\n",
    "Hour = 23 # 0-23\n",
    "\n",
    "all_FULdays = 0\n",
    "for M in range(Month):\n",
    "    all_FULdays+=Y[M]\n",
    "all_FULdays+= (Day-1)\n",
    "all_minutes = all_FULdays*24+Hour\n",
    "\n",
    "print all_minutes"
   ]
  },
  {
   "cell_type": "code",
   "execution_count": null,
   "metadata": {},
   "outputs": [],
   "source": []
  }
 ],
 "metadata": {
  "kernelspec": {
   "display_name": "Python 2",
   "language": "python",
   "name": "python2"
  },
  "language_info": {
   "codemirror_mode": {
    "name": "ipython",
    "version": 2
   },
   "file_extension": ".py",
   "mimetype": "text/x-python",
   "name": "python",
   "nbconvert_exporter": "python",
   "pygments_lexer": "ipython2",
   "version": "2.7.15"
  }
 },
 "nbformat": 4,
 "nbformat_minor": 2
}
