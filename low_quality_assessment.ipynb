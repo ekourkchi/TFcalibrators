{
 "cells": [
  {
   "cell_type": "code",
   "execution_count": 71,
   "metadata": {},
   "outputs": [],
   "source": [
    "import sys\n",
    "import time\n",
    "import os\n",
    "import subprocess\n",
    "import math\n",
    "import matplotlib.pyplot as plt\n",
    "import numpy as np\n",
    "from astropy.table import Table, Column \n",
    "from scipy.stats import linregress\n",
    "from scipy import interpolate\n",
    "from scipy import polyval, polyfit\n",
    "from scipy import odr\n",
    "import pylab as py\n",
    "from matplotlib import gridspec\n",
    "import sklearn.datasets as ds\n",
    "from sklearn.ensemble import RandomForestRegressor\n",
    "from sklearn.datasets import make_regression\n",
    "import corner\n",
    "import emcee\n",
    "import scipy.optimize as op\n",
    "from scipy.linalg import cholesky, inv,det\n",
    "from scipy.optimize import minimize\n",
    "import random\n",
    "from astropy.table import Table, Column\n",
    "from linear_mcmc import *\n",
    "\n",
    "from redTools import *\n",
    "from Kcorrect import *\n",
    "\n",
    "\n",
    "from matplotlib import rcParams\n",
    "rcParams[\"font.size\"] = 14\n",
    "rcParams[\"text.usetex\"] = True\n",
    "rcParams[\"text.latex.preamble\"] = r\"\\usepackage{cmbright}\"\n",
    "\n",
    "####################################### Set Axes\n",
    "def set_axes(ax_list, xlim, ylim):\n",
    "    for ax in ax_list:\n",
    "        \n",
    "        ax.set_ylim(ylim)\n",
    "        ax.set_xlim(xlim) \n",
    "        ax.tick_params(which='major', length=6, width=1.5, direction='in')\n",
    "        ax.tick_params(which='minor', length=4, color='#000033', width=1.0, direction='in')  \n",
    "\n",
    "        y_ax = ax.twinx()\n",
    "        y_ax.set_ylim(ylim)\n",
    "        y_ax.set_yticklabels([])\n",
    "        y_ax.minorticks_on()\n",
    "        y_ax.tick_params(which='major', length=6, width=1.5, direction='in')\n",
    "        y_ax.tick_params(which='minor', length=4, color='#000033', width=1.0, direction='in')        \n",
    "\n",
    "        x_ax = ax.twiny()\n",
    "        x_ax.set_xlim(xlim)\n",
    "        x_ax.set_xticklabels([])\n",
    "        x_ax.minorticks_on()\n",
    "        x_ax.tick_params(which='major', length=6, width=1.0, direction='in')\n",
    "        x_ax.tick_params(which='minor', length=4, color='#000033', width=1.0, direction='in')     \n",
    "\n",
    "        for tick in ax.xaxis.get_major_ticks():\n",
    "                    tick.label.set_fontsize(14) \n",
    "        for tick in ax.yaxis.get_major_ticks():\n",
    "                    tick.label.set_fontsize(14) \n",
    "####################################### Plotting Function"
   ]
  },
  {
   "cell_type": "code",
   "execution_count": 72,
   "metadata": {},
   "outputs": [],
   "source": [
    "inFile = 'corrected_mags_linewidth_all.csv'\n",
    "\n",
    "table   = np.genfromtxt(inFile , delimiter='|', filling_values=-99999, names=True, dtype=None, encoding=None)\n",
    "\n",
    "pgc  = table['pgc']\n",
    "Sqlt = table['Sqlt']\n",
    "Wqlt = table['Wqlt']\n",
    "\n",
    "P0_w2 = table['P0_w2']\n",
    "P0_w1 = table['P0_w1']\n"
   ]
  },
  {
   "cell_type": "markdown",
   "metadata": {},
   "source": [
    "### First, I test if the cataloged P1_w1 and P2_w2 are consistent with that reproted in our reddening paper\n",
    "Please note that in the following I have not considerred the error bars, for the paper I ahve considerred the error bars and I have got:\n",
    " - m = 1.021\n",
    " - b = -0.094"
   ]
  },
  {
   "cell_type": "code",
   "execution_count": 73,
   "metadata": {
    "scrolled": true
   },
   "outputs": [
    {
     "name": "stdout",
     "output_type": "stream",
     "text": [
      "1.0193200693755604 -0.0678868349069046\n"
     ]
    },
    {
     "data": {
      "text/plain": [
       "(-3.5, 3.5)"
      ]
     },
     "execution_count": 73,
     "metadata": {},
     "output_type": "execute_result"
    },
    {
     "data": {
      "image/png": "[encoded data removed]",
      "text/plain": [
       "<Figure size 432x288 with 1 Axes>"
      ]
     },
     "metadata": {},
     "output_type": "display_data"
    }
   ],
   "source": [
    "N = len(Sqlt)\n",
    "q = np.zeros(N)\n",
    "\n",
    "q[np.where(Sqlt>3)]+=1\n",
    "q[np.where(Wqlt>3)]+=1\n",
    "indx, = np.where(q==2)\n",
    "\n",
    "\n",
    "PC_w1 = P0_w1[indx]\n",
    "PC_w2 = P0_w2[indx]\n",
    "N = len(PC_w2)\n",
    "err = np.zeros(N)+0.01\n",
    "\n",
    "M,B,samples=linMC(PC_w1, PC_w2, err, err)\n",
    "m = M[0] ; me=0.5*(M[1]+M[2])\n",
    "b = B[0] ; be=0.5*(B[1]+B[2])\n",
    "\n",
    "plt.plot(PC_w1,PC_w2, '.') \n",
    "x_ = np.linspace(-4,15,50)\n",
    "plt.plot(x_, m*x_+b, 'r--') \n",
    "\n",
    "plt.plot(x_, 1.021*x_-0.094, 'g--') \n",
    "print m,b\n",
    "\n",
    "plt.xlim(-3.5,3.5)\n",
    "plt.ylim(-3.5,3.5)"
   ]
  },
  {
   "cell_type": "markdown",
   "metadata": {},
   "source": [
    "### Now let's look for low quality data, those galaxies with poor WISE photometry"
   ]
  },
  {
   "cell_type": "code",
   "execution_count": 35,
   "metadata": {},
   "outputs": [
    {
     "name": "stdout",
     "output_type": "stream",
     "text": [
      "436\n",
      "137\n",
      "299\n"
     ]
    }
   ],
   "source": [
    "N = len(Wqlt)\n",
    "q = np.zeros(N)\n",
    "\n",
    "q[np.where(Wqlt==3)]+=1\n",
    "q[np.where(Wqlt==2)]+=1\n",
    "indx, = np.where(q==1)\n",
    "pgc_sub = pgc[indx]    # poor WISE photometry\n",
    "\n",
    "Sqlt_sub = Sqlt[indx]  # poor WISE but good SDSS\n",
    "indx, = np.where(Sqlt_sub>2)\n",
    "pgc_sub_sdss = pgc_sub[indx]\n",
    "\n",
    "pgc_sub_wise = np.asarray([idd for idd in pgc_sub if not idd in pgc_sub_sdss])\n",
    "print len(pgc_sub)        # poor WISE photometry        \n",
    "print len(pgc_sub_sdss)   # poor WISE but good SDSS         --> use the predicted values \n",
    "print len(pgc_sub_wise)   # poor WISE but and NO good SDSS  --> use P1_w1 for reddening correction"
   ]
  },
  {
   "cell_type": "markdown",
   "metadata": {},
   "source": [
    "### Let's look for good/excellent WISE photometry (Wqlt>3), but users warn us about bad W2 data.\n",
    "In this case we use W1, not the predicted vlaue, since W1 still looks good."
   ]
  },
  {
   "cell_type": "code",
   "execution_count": 45,
   "metadata": {},
   "outputs": [
    {
     "name": "stderr",
     "output_type": "stream",
     "text": [
      "/home/ehsan/anaconda2/lib/python2.7/site-packages/ipykernel_launcher.py:2: VisibleDeprecationWarning: Reading unicode strings without specifying the encoding argument is deprecated. Set the encoding, use None for the system default.\n",
      "  \n"
     ]
    },
    {
     "name": "stdout",
     "output_type": "stream",
     "text": [
      "3543                                                                    w1 is ok, background issue with w2 \n",
      "7247                                                                      W1, W2 g.c. ok; W3 g.c. not good \n",
      "7824                                                                                        bad w2 profile \n",
      "8082                                                                  w1 seems to be good, w2 is uncertain \n",
      "9702                                                                      W1, W2 g.c. ok; very faint in W3 \n",
      "10048                                                                       artifacts in W3; W1, W2 g.c. ok \n",
      "13154                                                                                    W2 g.c. dips a lot \n",
      "14304                                                                  w1 is fine, w2 seems to be uncertain \n",
      "14936                                                                               strange W2 growth curve \n",
      "16517                                                                       artifacts in W3; W1, W2 g.c. ok \n",
      "17525                                                             faint galaxy; W1 ok; W3 bad; W2 maybe ok? \n",
      "20158                                                                            artifacts in W3; W1, W2 ok \n",
      "22369                                                                           W3 g.c. bad; W1, W2 g.c. ok \n",
      "26569                                                                              sn grad in W3; W1, W2 ok \n",
      "27430                                                                            artifacts in W3; W1, W2 ok \n",
      "27690                                             W1, W2 OK; lots of W3 contamination in aperture, sky ann. \n",
      "27856                                                           W1, W2 ok; W3 g.c. slopes down but prob. ok \n",
      "29641                                                              extra W3 BG?; W1, W2 ok, unsure about W3 \n",
      "31178                                                                    W3 g.c. bad (too faint); W1, W2 ok \n",
      "31238                                                                                                bad w2 \n",
      "31355                                                                                           OK - bad w2 \n",
      "32250                                                                    artifacts in W3; W1, W2 ok; W3 bad \n",
      "37870                                                                                         w2 not useful \n"
     ]
    }
   ],
   "source": [
    "inFile  = '../EDD_distance_cf4_v26.csv'\n",
    "table   = np.genfromtxt(inFile , delimiter='|', filling_values=-1, names=True, dtype=None)\n",
    "\n",
    "pgc_ESN = table['pgc']\n",
    "note    = table['note']\n",
    "\n",
    "for i, text in enumerate(note):\n",
    "    if pgc_ESN[i] in pgc:\n",
    "        for word in text.split(' '):\n",
    "            if 'W2' == word or 'w2' == word:\n",
    "                print pgc_ESN[i], text\n",
    "                break\n"
   ]
  },
  {
   "cell_type": "code",
   "execution_count": null,
   "metadata": {},
   "outputs": [],
   "source": [
    "pgc_W2_flagged = [3543, 7824, 8082, 13154, 14304, 14936, 17525, 31238, 31355, 37870]"
   ]
  },
  {
   "cell_type": "markdown",
   "metadata": {},
   "source": [
    "### Looking at the treasures users left when they did photometry\n",
    "Here, I am looking at the flags users raised when they were dealing with WISE photometry. Specifically I'm looking for any anomally regarding W2 badn photometries. "
   ]
  },
  {
   "cell_type": "code",
   "execution_count": 61,
   "metadata": {},
   "outputs": [
    {
     "name": "stderr",
     "output_type": "stream",
     "text": [
      "/home/ehsan/anaconda2/lib/python2.7/site-packages/ipykernel_launcher.py:2: VisibleDeprecationWarning: Reading unicode strings without specifying the encoding argument is deprecated. Set the encoding, use None for the system default.\n",
      "  \n",
      "/home/ehsan/anaconda2/lib/python2.7/site-packages/ipykernel_launcher.py:59: VisibleDeprecationWarning: Reading unicode strings without specifying the encoding argument is deprecated. Set the encoding, use None for the system default.\n"
     ]
    }
   ],
   "source": [
    "inFile = '../wise_all.csv'\n",
    "table = np.genfromtxt( inFile , delimiter=',', filling_values=None, names=True, dtype=None)\n",
    "wise_name = table['ID']\n",
    "wise_pgc  = table['PGC']\n",
    "#################\n",
    "def QA_WISE_DONE(pgc, ra):\n",
    "    \n",
    "    global wise_name, wise_pgc\n",
    "    \n",
    "    databse = '/home/ehsan/db_esn/'+'/cf4_wise/data/'\n",
    "    \n",
    "    if pgc in wise_pgc:\n",
    "        i_lst = np.where(pgc == wise_pgc)\n",
    "        name = wise_name[i_lst][0] \n",
    "        if os.path.exists(databse+ra_db(ra)+'/wise/fits/'+name+'_qa.txt'):\n",
    "            return True\n",
    "    \n",
    "    name = 'pgc'+str(pgc)\n",
    "    if os.path.exists(databse+ra_db(ra)+'/wise/fits/'+name+'_qa.txt'):\n",
    "         return True\n",
    "        \n",
    "    return False    \n",
    "     \n",
    "#################################\n",
    "#################################\n",
    "def ra_db(ra):   # returns a string\n",
    "  \n",
    "     ra_id = str(int(np.floor(ra)))\n",
    "     if ra < 10:\n",
    "       ra_id = '00'+ra_id+'D'\n",
    "     elif ra < 100:\n",
    "       ra_id = '0'+ra_id+'D'\n",
    "     else:\n",
    "       ra_id = ra_id+'D'\n",
    "  \n",
    "     return ra_id\n",
    "#################################\n",
    "def get_quality(filename, nline=40):\n",
    "    line_no = 0\n",
    "    seprator = ' '\n",
    "    for line in open(filename, 'r'):\n",
    "        columns = line.split(seprator)\n",
    "        line_no+=1\n",
    "        if len(columns) >= 2 and line_no==nline:\n",
    "            key  = columns[0]\n",
    "            j = 1\n",
    "            while columns[j] == '' or columns[j] == '=': j+=1\n",
    "            \n",
    "            output = columns[j]  ## string, int or float\n",
    "            try:\n",
    "                return int(output)\n",
    "            except:\n",
    "                return float(output)\n",
    "    return -1\n",
    "#################################\n",
    "location  = '/home/ehsan/db_esn/cf4_wise/data/'\n",
    "\n",
    "inFile  = '../EDD_distance_cf4_v26.csv'\n",
    "table   = np.genfromtxt(inFile , delimiter='|', filling_values=None, names=True, dtype=None)\n",
    "pgc_    = table['pgc']\n",
    "ra_     = table['ra']\n",
    "\n",
    "\n",
    "\n",
    "for i in range(len(pgc_)):\n",
    "    if pgc_[i] in pgc:\n",
    "            \n",
    "            found = False\n",
    "            if QA_WISE_DONE(pgc_[i], ra_[i]):\n",
    "                    found = True\n",
    "                    radb = ra_db(ra_[i])\n",
    "                    if pgc_[i] in wise_pgc:\n",
    "                        i_lst = np.where(wise_pgc == pgc_[i])\n",
    "                        galname = wise_name[i_lst][0]\n",
    "                        qa_txt = location + radb + '/wise/fits/' + galname+'_qa.txt'\n",
    "                    else:\n",
    "                        galname = 'pgc'+str(pgc_[i])\n",
    "                        qa_txt = location + radb + '/wise/fits/' + galname+'_qa.txt'\n",
    "                        \n",
    "                    if not os.path.exists(qa_txt):    \n",
    "                        galname = 'pgc'+str(pgc_[i])\n",
    "                        qa_txt = location + radb + '/wise/fits/' + galname+'_qa.txt'\n",
    "                    \n",
    "                    if not os.path.exists(qa_txt):\n",
    "                        found = False\n",
    "\n",
    "            if not found:\n",
    "                continue  \n",
    "                \n",
    "\n",
    "            BAND2_EDGE     = get_quality(qa_txt, nline=30)\n",
    "            BAND2_SN_GRAD  = get_quality(qa_txt, nline=31)\n",
    "            BAND2_ARTIFACT = get_quality(qa_txt, nline=32)\n",
    "            BAND2_OTHER    = get_quality(qa_txt, nline=33)\n",
    "            BAND2_MISSING  = get_quality(qa_txt, nline=34)\n",
    "            \n",
    "#             BACKRADIUS  = get_quality(qa_txt, nline=48)\n",
    "            \n",
    "#             if BACKRADIUS>0:\n",
    "#                 print pgc_[i]\n",
    "#                 pgc_W2_poor_flags.append(pgc_[i])\n",
    "                \n",
    "            if BAND2_EDGE+BAND2_SN_GRAD+BAND2_ARTIFACT+BAND2_ARTIFACT+BAND2_OTHER+BAND2_MISSING>0:\n",
    "                string = ''\n",
    "                if BAND2_EDGE>0: string+='BAND2_EDGE'+' '\n",
    "                if BAND2_SN_GRAD>0: string+='BAND2_SN_GRAD'+' '\n",
    "                if BAND2_ARTIFACT>0: string+='BAND2_ARTIFACT'+' '\n",
    "                if BAND2_OTHER>0: string+='BAND2_OTHER'+' '\n",
    "                if BAND2_MISSING>0: string+='BAND2_MISSING'\n",
    "#                 print pgc_[i], string\n",
    "                if not pgc_[i] in pgc_W2_poor_flags:\n",
    "                    pgc_W2_poor_flags.append(pgc_[i])\n",
    "                continue\n",
    "\n",
    "            \n",
    "pgc_W2_poor_flags = np.asarray(pgc_W2_poor_flags)"
   ]
  },
  {
   "cell_type": "markdown",
   "metadata": {},
   "source": [
    "### For these W2-flagged galaxies:\n",
    " - if Wqlt>3: use W1 band data for reddening correction\n",
    " - otherwise user SDSS predictions if available\n",
    " - otherwise stick to W1"
   ]
  },
  {
   "cell_type": "code",
   "execution_count": 65,
   "metadata": {},
   "outputs": [],
   "source": [
    "pgc_W2_poor_flags_W1 = []\n",
    "pgc_W2_poor_flags_P  = []\n",
    "\n",
    "for i, idd in enumerate(pgc_W2_poor_flags):\n",
    "    if idd in pgc:\n",
    "        indx, = np.where(pgc==idd)\n",
    "        S = Sqlt[indx][0]\n",
    "        W = Wqlt[indx][0]\n",
    "        if W>3:\n",
    "            pgc_W2_poor_flags_W1.append(idd)\n",
    "        else:\n",
    "            if S>2:\n",
    "                pgc_W2_poor_flags_P.append(idd)\n",
    "            else:\n",
    "                pgc_W2_poor_flags_W1.append(idd)"
   ]
  },
  {
   "cell_type": "code",
   "execution_count": 67,
   "metadata": {},
   "outputs": [
    {
     "name": "stdout",
     "output_type": "stream",
     "text": [
      "9\n",
      "75\n",
      "436\n",
      "137\n",
      "299\n"
     ]
    }
   ],
   "source": [
    "print len(pgc_W2_poor_flags_P)\n",
    "print len(pgc_W2_poor_flags_W1)\n",
    "print len(pgc_sub)        # poor WISE photometry        \n",
    "print len(pgc_sub_sdss)   # poor WISE but good SDSS         --> use the predicted values \n",
    "print len(pgc_sub_wise)   # poor WISE but and NO good SDSS  --> use P1_w1 for reddening correction"
   ]
  },
  {
   "cell_type": "markdown",
   "metadata": {},
   "source": [
    "### Prepare final list (all have poor W2 WISE photometry)\n",
    " - a list of PGC numbers where we should use W1\n",
    " - a list of PGC numbers where we should use SDSS predictions"
   ]
  },
  {
   "cell_type": "code",
   "execution_count": 69,
   "metadata": {},
   "outputs": [
    {
     "name": "stdout",
     "output_type": "stream",
     "text": [
      "138\n",
      "355\n"
     ]
    }
   ],
   "source": [
    "for idd in pgc_sub_sdss:\n",
    "    if not idd in pgc_W2_poor_flags_P: pgc_W2_poor_flags_P.append(idd)\n",
    "for idd in pgc_sub_wise:\n",
    "    if not idd in pgc_W2_poor_flags_W1: pgc_W2_poor_flags_W1.append(idd)\n",
    "print len(pgc_W2_poor_flags_P)\n",
    "print len(pgc_W2_poor_flags_W1)"
   ]
  },
  {
   "cell_type": "code",
   "execution_count": 70,
   "metadata": {},
   "outputs": [],
   "source": [
    "myTable = Table()\n",
    "myTable.add_column(Column(data=pgc_W2_poor_flags_P, name='PGC'))\n",
    "myTable.write('pgc_W2_poor_flags_P.csv', format='ascii.fixed_width',\n",
    "              delimiter=',', bookend=False, overwrite=True) \n",
    "\n",
    "myTable = Table()\n",
    "myTable.add_column(Column(data=pgc_W2_poor_flags_W1, name='PGC'))\n",
    "myTable.write('pgc_W2_poor_flags_W1.csv', format='ascii.fixed_width',\n",
    "              delimiter=',', bookend=False, overwrite=True) "
   ]
  }
 ],
 "metadata": {
  "kernelspec": {
   "display_name": "Python 2",
   "language": "python",
   "name": "python2"
  },
  "language_info": {
   "codemirror_mode": {
    "name": "ipython",
    "version": 2
   },
   "file_extension": ".py",
   "mimetype": "text/x-python",
   "name": "python",
   "nbconvert_exporter": "python",
   "pygments_lexer": "ipython2",
   "version": "2.7.15"
  }
 },
 "nbformat": 4,
 "nbformat_minor": 2
}
