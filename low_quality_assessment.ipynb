{
 "cells": [
  {
   "cell_type": "code",
   "execution_count": 9,
   "metadata": {},
   "outputs": [],
   "source": [
    "import sys\n",
    "import time\n",
    "import os\n",
    "import subprocess\n",
    "import math\n",
    "import matplotlib.pyplot as plt\n",
    "import numpy as np\n",
    "from astropy.table import Table, Column \n",
    "from scipy.stats import linregress\n",
    "from scipy import interpolate\n",
    "from scipy import polyval, polyfit\n",
    "from scipy import odr\n",
    "import pylab as py\n",
    "from matplotlib import gridspec\n",
    "import sklearn.datasets as ds\n",
    "from sklearn.ensemble import RandomForestRegressor\n",
    "from sklearn.datasets import make_regression\n",
    "import corner\n",
    "import emcee\n",
    "import scipy.optimize as op\n",
    "from scipy.linalg import cholesky, inv,det\n",
    "from scipy.optimize import minimize\n",
    "import random\n",
    "from astropy.table import Table, Column\n",
    "from linear_mcmc import *\n",
    "\n",
    "from redTools import *\n",
    "from Kcorrect import *\n",
    "\n",
    "\n",
    "from matplotlib import rcParams\n",
    "rcParams[\"font.size\"] = 14\n",
    "rcParams[\"text.usetex\"] = True\n",
    "rcParams[\"text.latex.preamble\"] = r\"\\usepackage{cmbright}\"\n",
    "\n",
    "####################################### Set Axes\n",
    "def set_axes(ax_list, xlim, ylim):\n",
    "    for ax in ax_list:\n",
    "        \n",
    "        ax.set_ylim(ylim)\n",
    "        ax.set_xlim(xlim) \n",
    "        ax.tick_params(which='major', length=6, width=1.5, direction='in')\n",
    "        ax.tick_params(which='minor', length=4, color='#000033', width=1.0, direction='in')  \n",
    "\n",
    "        y_ax = ax.twinx()\n",
    "        y_ax.set_ylim(ylim)\n",
    "        y_ax.set_yticklabels([])\n",
    "        y_ax.minorticks_on()\n",
    "        y_ax.tick_params(which='major', length=6, width=1.5, direction='in')\n",
    "        y_ax.tick_params(which='minor', length=4, color='#000033', width=1.0, direction='in')        \n",
    "\n",
    "        x_ax = ax.twiny()\n",
    "        x_ax.set_xlim(xlim)\n",
    "        x_ax.set_xticklabels([])\n",
    "        x_ax.minorticks_on()\n",
    "        x_ax.tick_params(which='major', length=6, width=1.0, direction='in')\n",
    "        x_ax.tick_params(which='minor', length=4, color='#000033', width=1.0, direction='in')     \n",
    "\n",
    "        for tick in ax.xaxis.get_major_ticks():\n",
    "                    tick.label.set_fontsize(14) \n",
    "        for tick in ax.yaxis.get_major_ticks():\n",
    "                    tick.label.set_fontsize(14) \n",
    "####################################### Plotting Function"
   ]
  },
  {
   "cell_type": "code",
   "execution_count": 10,
   "metadata": {},
   "outputs": [],
   "source": [
    "inFile = 'corrected_mags_linewidth_all.csv'\n",
    "\n",
    "table   = np.genfromtxt(inFile , delimiter='|', filling_values=-99999, names=True, dtype=None, encoding=None)\n",
    "\n",
    "pgc  = table['pgc']\n",
    "Sqlt = table['Sqlt']\n",
    "Wqlt = table['Wqlt']\n",
    "\n",
    "P0_w2 = table['P0_w2']\n",
    "P0_w1 = table['P0_w1']\n",
    "\n",
    "N = len(Sqlt)\n",
    "q = np.zeros(N)\n",
    "\n",
    "q[np.where(Sqlt>3)]+=1\n",
    "q[np.where(Wqlt>3)]+=1\n",
    "indx, = np.where(q==2)"
   ]
  },
  {
   "cell_type": "code",
   "execution_count": 11,
   "metadata": {
    "scrolled": true
   },
   "outputs": [],
   "source": [
    "PC_w1 = P0_w1[indx]\n",
    "PC_w2 = P0_w2[indx]\n",
    "N = len(PC_w2)\n",
    "err = np.zeros(N)+0.01\n",
    "\n",
    "M,B,samples=linMC(PC_w1, PC_w2, err, err)\n",
    "m = M[0] ; me=0.5*(M[1]+M[2])\n",
    "b = B[0] ; be=0.5*(B[1]+B[2])"
   ]
  },
  {
   "cell_type": "code",
   "execution_count": 12,
   "metadata": {},
   "outputs": [
    {
     "name": "stdout",
     "output_type": "stream",
     "text": [
      "1.0193283611352273 -0.06788331016475896\n"
     ]
    },
    {
     "data": {
      "text/plain": [
       "(-3.5, 3.5)"
      ]
     },
     "execution_count": 12,
     "metadata": {},
     "output_type": "execute_result"
    },
    {
     "data": {
      "image/png": "[encoded data removed]",
      "text/plain": [
       "<Figure size 432x288 with 1 Axes>"
      ]
     },
     "metadata": {},
     "output_type": "display_data"
    }
   ],
   "source": [
    "plt.plot(PC_w1,PC_w2, '.') \n",
    "x_ = np.linspace(-4,15,50)\n",
    "plt.plot(x_, m*x_+b, 'r--') \n",
    "\n",
    "plt.plot(x_, 1.021*x_-0.094, 'g--') \n",
    "print m,b\n",
    "\n",
    "plt.xlim(-3.5,3.5)\n",
    "plt.ylim(-3.5,3.5)"
   ]
  },
  {
   "cell_type": "code",
   "execution_count": null,
   "metadata": {},
   "outputs": [],
   "source": []
  },
  {
   "cell_type": "code",
   "execution_count": null,
   "metadata": {},
   "outputs": [],
   "source": []
  },
  {
   "cell_type": "code",
   "execution_count": null,
   "metadata": {},
   "outputs": [],
   "source": []
  }
 ],
 "metadata": {
  "kernelspec": {
   "display_name": "Python 2",
   "language": "python",
   "name": "python2"
  },
  "language_info": {
   "codemirror_mode": {
    "name": "ipython",
    "version": 2
   },
   "file_extension": ".py",
   "mimetype": "text/x-python",
   "name": "python",
   "nbconvert_exporter": "python",
   "pygments_lexer": "ipython2",
   "version": "2.7.15"
  }
 },
 "nbformat": 4,
 "nbformat_minor": 2
}
